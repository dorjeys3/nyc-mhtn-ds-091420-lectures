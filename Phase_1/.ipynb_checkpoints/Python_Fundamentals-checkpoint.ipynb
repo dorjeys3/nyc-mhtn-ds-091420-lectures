{
 "cells": [
  {
   "cell_type": "markdown",
   "metadata": {},
   "source": [
    "# Python Fundamentals \n",
    "\n",
    "_September 15, 2020_\n",
    "\n",
    "Agenda for today:\n",
    "- Functions vs Methods\n",
    "- Iterables and lists\n",
    "- Writing your functions "
   ]
  },
  {
   "cell_type": "markdown",
   "metadata": {},
   "source": [
    "## Part I. Functions vs Methods \n",
    "\n",
    "- What are the differences between functions and methods in Python?"
   ]
  },
  {
   "cell_type": "code",
   "execution_count": 11,
   "metadata": {},
   "outputs": [
    {
     "data": {
      "text/plain": [
       "['a', 'b', 'c']"
      ]
     },
     "execution_count": 11,
     "metadata": {},
     "output_type": "execute_result"
    }
   ],
   "source": [
    "## example of methods \n",
    "\n",
    "# .title()\n",
    "\n",
    "letter = 'abc' \n",
    "\n",
    "# .lower() \n",
    "\n",
    "sorted(letter)"
   ]
  },
  {
   "cell_type": "code",
   "execution_count": null,
   "metadata": {},
   "outputs": [],
   "source": [
    "# help function"
   ]
  },
  {
   "cell_type": "code",
   "execution_count": 21,
   "metadata": {},
   "outputs": [],
   "source": [
    "# list methods\n",
    "groceries = [\"apple\", \"banana\"]\n",
    "groceries1 = [\"kiwi\", \"mango\"]\n",
    "groceries.append(\"orange\")\n",
    "groceries1.pop()\n",
    "groceries.extend(groceries1)\n",
    "\n"
   ]
  },
  {
   "cell_type": "code",
   "execution_count": 22,
   "metadata": {
    "scrolled": true
   },
   "outputs": [
    {
     "name": "stdout",
     "output_type": "stream",
     "text": [
      "Grocery List:  ['apple', 'banana', 'orange', 'kiwi']\n"
     ]
    }
   ],
   "source": [
    "print(\"Grocery List: \",  groceries) "
   ]
  },
  {
   "cell_type": "code",
   "execution_count": 30,
   "metadata": {},
   "outputs": [
    {
     "name": "stdout",
     "output_type": "stream",
     "text": [
      "['Honda', 'Jeep', 'Audi', 'BWM', 'Merc', 'Toyota']\n",
      "['Toyota', 'Merc', 'BWM', 'Audi', 'Jeep', 'Honda']\n"
     ]
    }
   ],
   "source": [
    "cars = [\"Honda\", \"Jeep\", \"Audi\", \"BWM\", \"Merc\", \"Toyota\"]\n",
    "print(cars)\n",
    "\n",
    "# first 3 elements\n",
    "cars[0:3]\n",
    "\n",
    "# last element\n",
    "cars[-3:]\n",
    "## how to reverse the list?\n",
    "cars.reverse()\n",
    "print(cars)"
   ]
  },
  {
   "cell_type": "code",
   "execution_count": null,
   "metadata": {},
   "outputs": [],
   "source": [
    "# dictionary methods\n",
    "\n",
    ".keys()\n",
    ".pop()\n",
    "\n",
    "# dictionary indexing\n"
   ]
  },
  {
   "cell_type": "code",
   "execution_count": null,
   "metadata": {},
   "outputs": [],
   "source": []
  },
  {
   "cell_type": "markdown",
   "metadata": {},
   "source": [
    "## Part II. Iterables and lists "
   ]
  },
  {
   "cell_type": "markdown",
   "metadata": {},
   "source": [
    "#### For Loops "
   ]
  },
  {
   "cell_type": "code",
   "execution_count": 43,
   "metadata": {
    "scrolled": true
   },
   "outputs": [
    {
     "ename": "SyntaxError",
     "evalue": "invalid syntax (<ipython-input-43-59b0f6bbfe4b>, line 6)",
     "output_type": "error",
     "traceback": [
      "\u001b[0;36m  File \u001b[0;32m\"<ipython-input-43-59b0f6bbfe4b>\"\u001b[0;36m, line \u001b[0;32m6\u001b[0m\n\u001b[0;31m    dict_cars = {\"Make\" : \"Honda\", \"Jeep\" \"Model\" : \"Civic\", \"Cherokee\"}\u001b[0m\n\u001b[0m                                                                       ^\u001b[0m\n\u001b[0;31mSyntaxError\u001b[0m\u001b[0;31m:\u001b[0m invalid syntax\n"
     ]
    }
   ],
   "source": [
    "## example of iterating through a collection\n",
    "cars = [\"Honda\", \"Jeep\", \"Audi\", \"BWM\", \"Merc\", \"Toyota\"]\n",
    "for car in cars:\n",
    "    print(car)\n",
    "# iterate through dictionary\n",
    "dict_cars = {\"Make\" : \"Honda\", \"Jeep\" \n",
    "             \"Model\" : \"Civic\", \"Cherokee\"}\n"
   ]
  },
  {
   "cell_type": "code",
   "execution_count": null,
   "metadata": {},
   "outputs": [],
   "source": [
    "# iterate through the values of the dictionary\n"
   ]
  },
  {
   "cell_type": "code",
   "execution_count": null,
   "metadata": {},
   "outputs": [],
   "source": [
    "# iterate through keys"
   ]
  },
  {
   "cell_type": "code",
   "execution_count": null,
   "metadata": {},
   "outputs": [],
   "source": [
    "# .items() method - iterate through a key value pair "
   ]
  },
  {
   "cell_type": "code",
   "execution_count": null,
   "metadata": {
    "scrolled": true
   },
   "outputs": [],
   "source": [
    "# exercise\n",
    "\n",
    "#iterate through a dictionary and modify the values - put a '$' sign in front of each value\n"
   ]
  },
  {
   "cell_type": "code",
   "execution_count": null,
   "metadata": {},
   "outputs": [],
   "source": [
    "# use .items()\n",
    "\n"
   ]
  },
  {
   "cell_type": "markdown",
   "metadata": {},
   "source": [
    "#### While loops "
   ]
  },
  {
   "cell_type": "code",
   "execution_count": null,
   "metadata": {},
   "outputs": [],
   "source": [
    "# DO NOT RUN THIS\n",
    "\n",
    "i = 1\n",
    "while i < 10:\n",
    "    print(i)"
   ]
  },
  {
   "cell_type": "code",
   "execution_count": 44,
   "metadata": {
    "scrolled": true
   },
   "outputs": [
    {
     "name": "stdout",
     "output_type": "stream",
     "text": [
      "2\n",
      "3\n",
      "4\n",
      "5\n",
      "6\n",
      "7\n",
      "8\n",
      "9\n",
      "10\n"
     ]
    }
   ],
   "source": [
    "i = 1\n",
    "while i < 10:\n",
    "    i += 1\n",
    "    print(i)"
   ]
  },
  {
   "cell_type": "code",
   "execution_count": 45,
   "metadata": {
    "scrolled": true
   },
   "outputs": [
    {
     "name": "stdout",
     "output_type": "stream",
     "text": [
      "1\n",
      "2\n",
      "3\n",
      "4\n",
      "5\n",
      "6\n",
      "7\n",
      "8\n",
      "9\n"
     ]
    }
   ],
   "source": [
    "i = 1\n",
    "while i < 10:\n",
    "    print(i)\n",
    "    i += 1\n"
   ]
  },
  {
   "cell_type": "markdown",
   "metadata": {},
   "source": [
    "What does **Break** and **Continue** do in while loops?\n",
    "\n",
    "<img src= 'https://files.realpython.com/media/t.899f357dd948.png' width = 300>"
   ]
  },
  {
   "cell_type": "markdown",
   "metadata": {},
   "source": [
    "Break stops the loop and goes to the next block of functions \n",
    "\n",
    "Continue just goes back to the begining of the funciton to continue the looping\n"
   ]
  },
  {
   "cell_type": "code",
   "execution_count": null,
   "metadata": {},
   "outputs": [],
   "source": [
    "# example of break \n",
    "i = 1\n",
    "while i < 10:\n",
    "    i += 1 \n",
    "    if i == 3:\n",
    "        break\n",
    "    print(i)"
   ]
  },
  {
   "cell_type": "code",
   "execution_count": null,
   "metadata": {},
   "outputs": [],
   "source": [
    "# example of continue\n",
    "i = 1\n",
    "while i < 10:\n",
    "    i += 1\n",
    "    if i == 3:\n",
    "        continue\n",
    "    print(i)"
   ]
  },
  {
   "cell_type": "code",
   "execution_count": null,
   "metadata": {},
   "outputs": [],
   "source": [
    "# nested while loops -- OPTIONAL \n",
    "i = 1\n",
    "j = 5\n",
    "while i < 20:\n",
    "    while j < 10: \n",
    "        print(i,j)\n",
    "        i += 1\n",
    "        j += 1\n",
    "        print(i,j)"
   ]
  },
  {
   "cell_type": "code",
   "execution_count": null,
   "metadata": {
    "scrolled": true
   },
   "outputs": [],
   "source": [
    "# exercises \n",
    "\n",
    "# write a program that successively remove last item from collection until it's empty using while loop \n",
    "\n"
   ]
  },
  {
   "cell_type": "code",
   "execution_count": null,
   "metadata": {},
   "outputs": [],
   "source": []
  },
  {
   "cell_type": "code",
   "execution_count": null,
   "metadata": {
    "scrolled": false
   },
   "outputs": [],
   "source": [
    "# another methods?\n"
   ]
  },
  {
   "cell_type": "markdown",
   "metadata": {},
   "source": [
    "## Part III. Write your own functions. \n",
    "\n",
    "Function syntax:\n",
    "\n",
    "`def function_names(args):\n",
    "      expressions\n",
    "      return statement`"
   ]
  },
  {
   "cell_type": "code",
   "execution_count": 52,
   "metadata": {},
   "outputs": [],
   "source": [
    "# functions with no arguments\n",
    "def greetings():\n",
    "    \n",
    "    return greetings\n",
    "\n",
    "\n"
   ]
  },
  {
   "cell_type": "code",
   "execution_count": null,
   "metadata": {},
   "outputs": [],
   "source": []
  },
  {
   "cell_type": "code",
   "execution_count": null,
   "metadata": {},
   "outputs": [],
   "source": [
    "# doc strings"
   ]
  },
  {
   "cell_type": "code",
   "execution_count": 53,
   "metadata": {},
   "outputs": [],
   "source": [
    "# manipulating collections \n",
    "pets = {\n",
    "    'Ginger': {\n",
    "        'age': 5,\n",
    "        'type': 'Pitbull',\n",
    "        'attribute': ['Playful','Cheery','Hyper']\n",
    "    },\n",
    "    'Chloe': {\n",
    "        'age': 1,\n",
    "        'type': 'Maine Coon',\n",
    "        'attribute': ['Alert','Independent','Playful']\n",
    "    },\n",
    "    'Chuck Norris': {\n",
    "        'age': 8,\n",
    "        'type': 'Parrot',\n",
    "        'attribute': ['Talkative','Independent','Cheery']\n",
    "    },\n",
    "    'Joe Rogan': {\n",
    "        'age': 2,\n",
    "        'type': 'Labrador',\n",
    "        'attribute': ['Hyper','Playful','Energetic']\n",
    "    }\n",
    "}"
   ]
  },
  {
   "cell_type": "code",
   "execution_count": 60,
   "metadata": {},
   "outputs": [
    {
     "ename": "ValueError",
     "evalue": "invalid literal for int() with base 10: 'age'",
     "output_type": "error",
     "traceback": [
      "\u001b[0;31m---------------------------------------------------------------------------\u001b[0m",
      "\u001b[0;31mValueError\u001b[0m                                Traceback (most recent call last)",
      "\u001b[0;32m<ipython-input-60-4eeef3c9cb5d>\u001b[0m in \u001b[0;36m<module>\u001b[0;34m()\u001b[0m\n\u001b[1;32m      1\u001b[0m \u001b[0;31m# create a function that returns the names of pets who is older than x years old\u001b[0m\u001b[0;34m\u001b[0m\u001b[0;34m\u001b[0m\u001b[0;34m\u001b[0m\u001b[0m\n\u001b[1;32m      2\u001b[0m \u001b[0;32mfor\u001b[0m \u001b[0mpet\u001b[0m \u001b[0;32min\u001b[0m \u001b[0mpets\u001b[0m\u001b[0;34m:\u001b[0m\u001b[0;34m\u001b[0m\u001b[0;34m\u001b[0m\u001b[0m\n\u001b[0;32m----> 3\u001b[0;31m     \u001b[0;32mif\u001b[0m \u001b[0mint\u001b[0m\u001b[0;34m(\u001b[0m\u001b[0;34m\"age\"\u001b[0m\u001b[0;34m)\u001b[0m \u001b[0;34m>\u001b[0m \u001b[0;36m2\u001b[0m\u001b[0;34m:\u001b[0m\u001b[0;34m\u001b[0m\u001b[0;34m\u001b[0m\u001b[0m\n\u001b[0m\u001b[1;32m      4\u001b[0m         \u001b[0mprint\u001b[0m\u001b[0;34m(\u001b[0m\u001b[0;34m\"name\"\u001b[0m\u001b[0;34m,\u001b[0m \u001b[0;34m\"age\"\u001b[0m\u001b[0;34m)\u001b[0m\u001b[0;34m\u001b[0m\u001b[0;34m\u001b[0m\u001b[0m\n\u001b[1;32m      5\u001b[0m \u001b[0;34m\u001b[0m\u001b[0m\n",
      "\u001b[0;31mValueError\u001b[0m: invalid literal for int() with base 10: 'age'"
     ]
    }
   ],
   "source": [
    "# create a function that returns the names of pets who is older than x years old\n",
    "for pet in pets:\n",
    "    if (\"age\") > 2:\n",
    "        print(\"name\", \"age\")\n",
    "\n",
    "# the function should take in a dictionary containing all pet information, \n",
    "# and an integer indicating age you want to compare\n",
    "    \n",
    "def pets_older_than(pets_dict,x):\n",
    "    \"\"\"return a list of name of pets older than x\"\"\"\n",
    "    \n",
    "    pass"
   ]
  },
  {
   "cell_type": "code",
   "execution_count": null,
   "metadata": {
    "scrolled": true
   },
   "outputs": [],
   "source": [
    "pets_older_than(pets, 4)"
   ]
  },
  {
   "cell_type": "code",
   "execution_count": null,
   "metadata": {},
   "outputs": [],
   "source": [
    "# take home exercise - implement whether a function is palindrome\n",
    "\n",
    "# implement a function that checks whether a string is a palindrome \n",
    "\n",
    "def is_palindrome(string):\n",
    "    pass"
   ]
  },
  {
   "cell_type": "code",
   "execution_count": null,
   "metadata": {},
   "outputs": [],
   "source": [
    "# exercise 2\n",
    "\n",
    "\n",
    "def count_repeat(string):\n",
    "    '''\n",
    "    'abba' --> 1\n",
    "    'abcd' --> 0\n",
    "    'aabbccdd'-->4\n",
    "    '''\n",
    "    pass\n",
    "\n",
    "# implement a function that counts how many times a consecutive string repeats"
   ]
  }
 ],
 "metadata": {
  "kernelspec": {
   "display_name": "Python 3",
   "language": "python",
   "name": "python3"
  },
  "language_info": {
   "codemirror_mode": {
    "name": "ipython",
    "version": 3
   },
   "file_extension": ".py",
   "mimetype": "text/x-python",
   "name": "python",
   "nbconvert_exporter": "python",
   "pygments_lexer": "ipython3",
   "version": "3.6.9"
  }
 },
 "nbformat": 4,
 "nbformat_minor": 2
}
