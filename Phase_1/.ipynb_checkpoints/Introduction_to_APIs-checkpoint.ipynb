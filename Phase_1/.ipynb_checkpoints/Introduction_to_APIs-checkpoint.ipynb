{
 "cells": [
  {
   "cell_type": "markdown",
   "metadata": {},
   "source": [
    "# JSON and APIs\n",
    "\n",
    "_September 22, 2020_\n",
    "\n",
    "Agenda today:\n",
    "- Introduction to API and Remote Server Model \n",
    "- Getting data through an API: Case study with YELP API"
   ]
  },
  {
   "cell_type": "code",
   "execution_count": 11,
   "metadata": {},
   "outputs": [],
   "source": [
    "import pandas as pd\n",
    "import numpy as np\n",
    "import requests\n",
    "import json\n",
    "#from yelp.client import Client\n",
    "import matplotlib.pyplot as plt\n",
    "plt.style.use('seaborn')"
   ]
  },
  {
   "cell_type": "markdown",
   "metadata": {},
   "source": [
    "## Part I. APIs and Remote Server Model\n",
    "API stands for Application Programming Interface. At some point or the other, large companies would build API for their products for their clients or internal use. It allows the company's application to communicate with another application. But what _exactly_ is an API?\n",
    "\n",
    "#### Remote server \n",
    "When we think about the world of Web, we can think of it as a collection of _servers_. And servers are nothing but huge computers that store a huge amount of data from users and are optimized to process requests. For example, when you type in www.facebook.com, your browser sends a _request_ to the Facebook server, and gets a response from the server, thus interpreting the code and displaying your homepage. \n",
    "\n",
    "In this case, your browser is the _client_, and Facebook’s server is an API. To put it broadly, whenever you visit a website, you are interacting with its API. However, an API isn’t the same as the remote server — rather it is the part of the server that receives __requests__ and sends __responses__.\n",
    "\n",
    "<img src='status-code.png' width = 500>"
   ]
  },
  {
   "cell_type": "markdown",
   "metadata": {},
   "source": [
    "## Part II. Getting Data Through APIs\n",
    "\n",
    "The `get()` method send a request to YELP's API, and stored information in a variable called `request`. Next, let's see if it's successful. "
   ]
  },
  {
   "cell_type": "markdown",
   "metadata": {},
   "source": [
    "#### YELP API\n",
    "Sometimes you need _authentication_ to get data from a service in additional to just sending a `GET()` request. Yelp API is a perfect example. \n",
    "\n",
    "You will need to go to the YELP's developer's [website](https://www.yelp.com/developers/v3/manage_app) and request for a client ID and API key, which function like a key into a house of data. \n",
    "\n",
    "<img src='yelp.png' width = 500>"
   ]
  },
  {
   "cell_type": "code",
   "execution_count": 12,
   "metadata": {},
   "outputs": [],
   "source": [
    "# lets try to get some data from yelp!\n",
    "url = 'https://api.yelp.com/v3/businesses/search'\n",
    "response = requests.get(url)"
   ]
  },
  {
   "cell_type": "code",
   "execution_count": 13,
   "metadata": {},
   "outputs": [
    {
     "data": {
      "text/plain": [
       "400"
      ]
     },
     "execution_count": 13,
     "metadata": {},
     "output_type": "execute_result"
    }
   ],
   "source": [
    "# check the status code\n",
    "response.status_code\n",
    "\n",
    "# what happened here?"
   ]
  },
  {
   "cell_type": "code",
   "execution_count": 41,
   "metadata": {
    "scrolled": true
   },
   "outputs": [],
   "source": [
    "# now we are ready to get our data \n",
    "\n",
    "# usually, services would limit you to a certain amount of API calls. This varies from service\n",
    "# to service, so you have to watch out to it \n",
    "\n",
    "MY_API_KEY = \"NxtMiHhoo60686e4ETOSC5oiZuGGh75pCHk_I-o4aGeYh09Ad2k8zZvKgtcvqpwP_Z5IqsnoMxQno0-3sRu47D5V1uVP9uJ1UnlJeE-qfqbLokxZ2mbeWbj-8w5qX3Yx\"\n",
    "\n",
    "\n",
    "term = 'burgers'\n",
    "location = 'Brooklyn'\n",
    "SEARCH_LIMIT = 50\n",
    "\n",
    "url = 'https://api.yelp.com/v3/businesses/search'\n",
    "\n",
    "headers = {\n",
    "        'Authorization': 'Bearer {}'.format(MY_API_KEY),\n",
    "    }\n",
    "\n",
    "url_params = {\n",
    "                'term': term.replace(' ', '+'),\n",
    "                'location': location.replace(' ', '+'),\n",
    "                'limit': SEARCH_LIMIT\n",
    "            }\n",
    "response = requests.get(url, headers=headers, params=url_params)"
   ]
  },
  {
   "cell_type": "code",
   "execution_count": 42,
   "metadata": {},
   "outputs": [
    {
     "name": "stdout",
     "output_type": "stream",
     "text": [
      "<Response [200]>\n"
     ]
    }
   ],
   "source": [
    "# examine the response object\n",
    "\n",
    "print(response)\n"
   ]
  },
  {
   "cell_type": "code",
   "execution_count": 43,
   "metadata": {},
   "outputs": [
    {
     "name": "stdout",
     "output_type": "stream",
     "text": [
      "{\"businesses\": [{\"id\": \"-0bdnX762vdTb9lI00etvA\", \"alias\": \"brooklyn-burgers-and-beer-brooklyn\", \"name\": \"Brooklyn Burgers & Beer\", \"image_url\": \"https://s3-media3.fl.yelpcdn.com/bphoto/Xt6uxV5pTXQ_c1gdJytrYA/o.jpg\", \"is_closed\": false, \"url\": \"https://www.yelp.com/biz/brooklyn-burgers-and-beer-brooklyn?adjust_creative=kCWh97FC3e0Y7Emck3mGaw&utm_campaign=yelp_api_v3&utm_medium=api_v3_business_search&utm_source=kCWh97FC3e0Y7Emck3mGaw\", \"review_count\": 346, \"categories\": [{\"alias\": \"burgers\", \"title\": \"Burgers\"}, {\"alias\": \"beerbar\", \"title\": \"Beer Bar\"}], \"rating\": 4.0, \"coordinates\": {\"latitude\": 40.6743507, \"longitude\": -73.9815826}, \"transactions\": [\"delivery\", \"pickup\"], \"price\": \"$$\", \"location\": {\"address1\": \"259 5th Ave\", \"address2\": null, \"address3\": \"\", \"city\": \"Brooklyn\", \"zip_code\": \"11215\", \"country\": \"US\", \"state\": \"NY\", \"display_address\": [\"259 5th Ave\", \"Brooklyn, NY 11215\"]}, \"phone\": \"+17187881458\", \"display_phone\": \"(718) 788-1458\", \"distance\": 4331.401461075489}, {\"id\": \"xiEBdZ8z5KY21Vw2pY2fJQ\", \"alias\": \"two-8-two-bar-and-burger-brooklyn\", \"name\": \"Two 8 Two Bar & Burger\", \"image_url\": \"https://s3-media1.fl.yelpcdn.com/bphoto/Bk_qD2OE7vVfDvsN4jZExQ/o.jpg\", \"is_closed\": false, \"url\": \"https://www.yelp.com/biz/two-8-two-bar-and-burger-brooklyn?adjust_creative=kCWh97FC3e0Y7Emck3mGaw&utm_campaign=yelp_api_v3&utm_medium=api_v3_business_search&utm_source=kCWh97FC3e0Y7Emck3mGaw\", \"review_count\": 657, \"categories\": [{\"alias\": \"burgers\", \"title\": \"Burgers\"}, {\"alias\": \"bars\", \"title\": \"Bars\"}], \"rating\": 4.0, \"coordinates\": {\"latitude\": 40.688536, \"longitude\": -73.989728}, \"transactions\": [\"delivery\", \"pickup\"], \"price\": \"$$\", \"location\": {\"address1\": \"282 Atlantic Ave\", \"address2\": \"\", \"address3\": \"\", \"city\": \"Brooklyn\", \"zip_code\": \"11201\", \"country\": \"US\", \"state\": \"NY\", \"display_address\": [\"282 Atlantic Ave\", \"Brooklyn, NY 11201\"]}, \"phone\": \"+17185962282\", \"display_phone\": \"(718) 596-2282\", \"distance\": 5853.318089361471}, {\"id\": \"wYgp-defqwJPhjC6Y_WKWg\", \"alias\": \"burgerfi-brooklyn-2\", \"name\": \"BurgerFi\", \"image_url\": \"https://s3-media2.fl.yelpcdn.com/bphoto/U56T0LvQHYWEvTO4D7g6Xw/o.jpg\", \"is_closed\": false, \"url\": \"https://www.yelp.com/biz/burgerfi-brooklyn-2?adjust_creative=kCWh97FC3e0Y7Emck3mGaw&utm_campaign=yelp_api_v3&utm_medium=api_v3_business_search&utm_source=kCWh97FC3e0Y7Emck3mGaw\", \"review_count\": 299, \"categories\": [{\"alias\": \"hotdog\", \"title\": \"Hot Dogs\"}, {\"alias\": \"burgers\", \"title\": \"Burgers\"}, {\"alias\": \"newamerican\", \"title\": \"American (New)\"}], \"rating\": 4.0, \"coordinates\": {\"latitude\": 40.61883, \"longitude\": -74.02131}, \"transactions\": [\"delivery\", \"pickup\"], \"price\": \"$$\", \"location\": {\"address1\": \"719 86th St\", \"address2\": \"\", \"address3\": null, \"city\": \"Brooklyn\", \"zip_code\": \"11228\", \"country\": \"US\", \"state\": \"NY\", \"display_address\": [\"719 86th St\", \"Brooklyn, NY 11228\"]}, \"phone\": \"+17188360836\", \"display_phone\": \"(718) 836-0836\", \"distance\": 7856.266093856495}, {\"id\": \"dkAj-3gmkvdA4XkJmw6hCw\", \"alias\": \"juanchis-burger-brooklyn\", \"name\": \"Juanchi's Burger\", \"image_url\": \"https://s3-media4.fl.yelpcdn.com/bphoto/ZgbWUBZhsVm5RrrprkmAfQ/o.jpg\", \"is_closed\": false, \"url\": \"https://www.yelp.com/biz/juanchis-burger-brooklyn?adjust_creative=kCWh97FC3e0Y7Emck3mGaw&utm_campaign=yelp_api_v3&utm_medium=api_v3_business_search&utm_source=kCWh97FC3e0Y7Emck3mGaw\", \"review_count\": 449, \"categories\": [{\"alias\": \"gastropubs\", \"title\": \"Gastropubs\"}, {\"alias\": \"burgers\", \"title\": \"Burgers\"}], \"rating\": 4.5, \"coordinates\": {\"latitude\": 40.713003, \"longitude\": -73.958863}, \"transactions\": [\"delivery\", \"pickup\"], \"price\": \"$$\", \"location\": {\"address1\": \"225 S 1st St\", \"address2\": null, \"address3\": \"\", \"city\": \"Brooklyn\", \"zip_code\": \"11211\", \"country\": \"US\", \"state\": \"NY\", \"display_address\": [\"225 S 1st St\", \"Brooklyn, NY 11211\"]}, \"phone\": \"+19292950147\", \"display_phone\": \"(929) 295-0147\", \"distance\": 6945.73380896072}, {\"id\": \"M6z8nxPfoM9si1LIb8sxig\", \"alias\": \"burger-urway-park-slope-brooklyn\", \"name\": \"BURGER URWAY PARK SLOPE\", \"image_url\": \"https://s3-media1.fl.yelpcdn.com/bphoto/lwp8cg6tpr2vPI5SUjKEBQ/o.jpg\", \"is_closed\": false, \"url\": \"https://www.yelp.com/biz/burger-urway-park-slope-brooklyn?adjust_creative=kCWh97FC3e0Y7Emck3mGaw&utm_campaign=yelp_api_v3&utm_medium=api_v3_business_search&utm_source=kCWh97FC3e0Y7Emck3mGaw\", \"review_count\": 1, \"categories\": [{\"alias\": \"burgers\", \"title\": \"Burgers\"}, {\"alias\": \"salad\", \"title\": \"Salad\"}, {\"alias\": \"sandwiches\", \"title\": \"Sandwiches\"}], \"rating\": 5.0, \"coordinates\": {\"latitude\": 40.67037, \"longitude\": -73.98502}, \"transactions\": [\"delivery\", \"pickup\"], \"location\": {\"address1\": \"339 7th St\", \"address2\": null, \"address3\": \"\", \"city\": \"Brooklyn\", \"zip_code\": \"11215\", \"country\": \"US\", \"state\": \"NY\", \"display_address\": [\"339 7th St\", \"Brooklyn, NY 11215\"]}, \"phone\": \"+13474220139\", \"display_phone\": \"(347) 422-0139\", \"distance\": 4335.748177295854}, {\"id\": \"Jy6qxXks0w5Wmurzu7rmBQ\", \"alias\": \"212-burgers-brooklyn-2\", \"name\": \"212 Burgers\", \"image_url\": \"https://s3-media4.fl.yelpcdn.com/bphoto/vf7JojXIkUr39M4gkGhH4Q/o.jpg\", \"is_closed\": false, \"url\": \"https://www.yelp.com/biz/212-burgers-brooklyn-2?adjust_creative=kCWh97FC3e0Y7Emck3mGaw&utm_campaign=yelp_api_v3&utm_medium=api_v3_business_search&utm_source=kCWh97FC3e0Y7Emck3mGaw\", \"review_count\": 108, \"categories\": [{\"alias\": \"burgers\", \"title\": \"Burgers\"}], \"rating\": 4.5, \"coordinates\": {\"latitude\": 40.659118333958, \"longitude\": -73.9816275578599}, \"transactions\": [\"delivery\", \"pickup\"], \"price\": \"$$\", \"location\": {\"address1\": \"252 Prospect Park W\", \"address2\": null, \"address3\": null, \"city\": \"Brooklyn\", \"zip_code\": \"11215\", \"country\": \"US\", \"state\": \"NY\", \"display_address\": [\"252 Prospect Park W\", \"Brooklyn, NY 11215\"]}, \"phone\": \"+18883472747\", \"display_phone\": \"(888) 347-2747\", \"distance\": 3644.437412333092}, {\"id\": \"ioUJB91aFWxlV--opOtVvA\", \"alias\": \"leslies-kitchen-brooklyn-5\", \"name\": \"Leslie's Kitchen\", \"image_url\": \"https://s3-media2.fl.yelpcdn.com/bphoto/DuDCOVLRCAE5m206GWULEg/o.jpg\", \"is_closed\": false, \"url\": \"https://www.yelp.com/biz/leslies-kitchen-brooklyn-5?adjust_creative=kCWh97FC3e0Y7Emck3mGaw&utm_campaign=yelp_api_v3&utm_medium=api_v3_business_search&utm_source=kCWh97FC3e0Y7Emck3mGaw\", \"review_count\": 46, \"categories\": [{\"alias\": \"newamerican\", \"title\": \"American (New)\"}, {\"alias\": \"burgers\", \"title\": \"Burgers\"}, {\"alias\": \"mexican\", \"title\": \"Mexican\"}], \"rating\": 4.5, \"coordinates\": {\"latitude\": 40.70136, \"longitude\": -73.92663}, \"transactions\": [\"delivery\", \"pickup\"], \"location\": {\"address1\": \"109 Wilson Ave\", \"address2\": \"\", \"address3\": null, \"city\": \"Brooklyn\", \"zip_code\": \"11237\", \"country\": \"US\", \"state\": \"NY\", \"display_address\": [\"109 Wilson Ave\", \"Brooklyn, NY 11237\"]}, \"phone\": \"+13474067857\", \"display_phone\": \"(347) 406-7857\", \"distance\": 5555.671199046666}, {\"id\": \"GTYn-iP81HKVKl6FGT0_Cw\", \"alias\": \"smashburger-brooklyn-4\", \"name\": \"Smashburger\", \"image_url\": \"https://s3-media3.fl.yelpcdn.com/bphoto/k27--rh1UR3FLqXFjn604A/o.jpg\", \"is_closed\": false, \"url\": \"https://www.yelp.com/biz/smashburger-brooklyn-4?adjust_creative=kCWh97FC3e0Y7Emck3mGaw&utm_campaign=yelp_api_v3&utm_medium=api_v3_business_search&utm_source=kCWh97FC3e0Y7Emck3mGaw\", \"review_count\": 195, \"categories\": [{\"alias\": \"burgers\", \"title\": \"Burgers\"}], \"rating\": 3.5, \"coordinates\": {\"latitude\": 40.653523, \"longitude\": -73.871513}, \"transactions\": [\"delivery\", \"pickup\"], \"price\": \"$$\", \"location\": {\"address1\": \"528 Gateway Dr\", \"address2\": null, \"address3\": null, \"city\": \"Brooklyn\", \"zip_code\": \"11239\", \"country\": \"US\", \"state\": \"NY\", \"display_address\": [\"528 Gateway Dr\", \"Brooklyn, NY 11239\"]}, \"phone\": \"+17182356900\", \"display_phone\": \"(718) 235-6900\", \"distance\": 5725.251777162034}, {\"id\": \"Co3ZnNEAXFYoaxH2q7ruag\", \"alias\": \"stocked-burger-brooklyn\", \"name\": \"Stocked Burger\", \"image_url\": \"https://s3-media2.fl.yelpcdn.com/bphoto/D9Z27FcDL9Es2raXU9oZfQ/o.jpg\", \"is_closed\": false, \"url\": \"https://www.yelp.com/biz/stocked-burger-brooklyn?adjust_creative=kCWh97FC3e0Y7Emck3mGaw&utm_campaign=yelp_api_v3&utm_medium=api_v3_business_search&utm_source=kCWh97FC3e0Y7Emck3mGaw\", \"review_count\": 40, \"categories\": [{\"alias\": \"burgers\", \"title\": \"Burgers\"}], \"rating\": 4.0, \"coordinates\": {\"latitude\": 40.6773, \"longitude\": -73.96351}, \"transactions\": [\"delivery\", \"pickup\"], \"location\": {\"address1\": \"663 Washington Ave\", \"address2\": \"\", \"address3\": null, \"city\": \"Brooklyn\", \"zip_code\": \"11238\", \"country\": \"US\", \"state\": \"NY\", \"display_address\": [\"663 Washington Ave\", \"Brooklyn, NY 11238\"]}, \"phone\": \"+17188725304\", \"display_phone\": \"(718) 872-5304\", \"distance\": 3437.1575782047385}, {\"id\": \"4il02WBqO7fZi2-A9Gk0dw\", \"alias\": \"gnarly-eats-brooklyn\", \"name\": \"Gnarly Eats\", \"image_url\": \"https://s3-media3.fl.yelpcdn.com/bphoto/i5D60PrVPTmkG1WHEn3yKg/o.jpg\", \"is_closed\": false, \"url\": \"https://www.yelp.com/biz/gnarly-eats-brooklyn?adjust_creative=kCWh97FC3e0Y7Emck3mGaw&utm_campaign=yelp_api_v3&utm_medium=api_v3_business_search&utm_source=kCWh97FC3e0Y7Emck3mGaw\", \"review_count\": 262, \"categories\": [{\"alias\": \"burgers\", \"title\": \"Burgers\"}, {\"alias\": \"sandwiches\", \"title\": \"Sandwiches\"}, {\"alias\": \"comfortfood\", \"title\": \"Comfort Food\"}], \"rating\": 4.5, \"coordinates\": {\"latitude\": 40.663201, \"longitude\": -73.984806}, \"transactions\": [\"delivery\", \"pickup\"], \"price\": \"$$\", \"location\": {\"address1\": \"447 7th Ave\", \"address2\": null, \"address3\": \"\", \"city\": \"Brooklyn\", \"zip_code\": \"11215\", \"country\": \"US\", \"state\": \"NY\", \"display_address\": [\"447 7th Ave\", \"Brooklyn, NY 11215\"]}, \"phone\": \"+17183601661\", \"display_phone\": \"(718) 360-1661\", \"distance\": 4019.4857624210517}, {\"id\": \"MKMx5TAmzXfjgLdXgu6FVQ\", \"alias\": \"south-brooklyn-foundry-brooklyn\", \"name\": \"South Brooklyn Foundry\", \"image_url\": \"https://s3-media3.fl.yelpcdn.com/bphoto/urBF0_-UT_nPT6yMo6b12g/o.jpg\", \"is_closed\": false, \"url\": \"https://www.yelp.com/biz/south-brooklyn-foundry-brooklyn?adjust_creative=kCWh97FC3e0Y7Emck3mGaw&utm_campaign=yelp_api_v3&utm_medium=api_v3_business_search&utm_source=kCWh97FC3e0Y7Emck3mGaw\", \"review_count\": 277, \"categories\": [{\"alias\": \"newamerican\", \"title\": \"American (New)\"}, {\"alias\": \"breakfast_brunch\", \"title\": \"Breakfast & Brunch\"}, {\"alias\": \"burgers\", \"title\": \"Burgers\"}], \"rating\": 4.5, \"coordinates\": {\"latitude\": 40.63539, \"longitude\": -74.02602}, \"transactions\": [\"delivery\", \"pickup\"], \"price\": \"$$\", \"location\": {\"address1\": \"6909 3rd Ave\", \"address2\": null, \"address3\": \"\", \"city\": \"Brooklyn\", \"zip_code\": \"11209\", \"country\": \"US\", \"state\": \"NY\", \"display_address\": [\"6909 3rd Ave\", \"Brooklyn, NY 11209\"]}, \"phone\": \"+17183335287\", \"display_phone\": \"(718) 333-5287\", \"distance\": 7547.359970742674}, {\"id\": \"fHHpSKT9u7PQBYaMW5cEkA\", \"alias\": \"trad-room-brooklyn-2\", \"name\": \"Trad Room\", \"image_url\": \"https://s3-media3.fl.yelpcdn.com/bphoto/G601cUICmfD0XI3vjyE4yg/o.jpg\", \"is_closed\": false, \"url\": \"https://www.yelp.com/biz/trad-room-brooklyn-2?adjust_creative=kCWh97FC3e0Y7Emck3mGaw&utm_campaign=yelp_api_v3&utm_medium=api_v3_business_search&utm_source=kCWh97FC3e0Y7Emck3mGaw\", \"review_count\": 47, \"categories\": [{\"alias\": \"burgers\", \"title\": \"Burgers\"}, {\"alias\": \"sushi\", \"title\": \"Sushi Bars\"}, {\"alias\": \"steak\", \"title\": \"Steakhouses\"}], \"rating\": 4.5, \"coordinates\": {\"latitude\": 40.68391, \"longitude\": -73.929419}, \"transactions\": [\"delivery\", \"pickup\", \"restaurant_reservation\"], \"price\": \"$$\", \"location\": {\"address1\": \"266 Malcolm X Blvd\", \"address2\": null, \"address3\": \"\", \"city\": \"Brooklyn\", \"zip_code\": \"11233\", \"country\": \"US\", \"state\": \"NY\", \"display_address\": [\"266 Malcolm X Blvd\", \"Brooklyn, NY 11233\"]}, \"phone\": \"+13472405760\", \"display_phone\": \"(347) 240-5760\", \"distance\": 3610.253857721571}, {\"id\": \"Xz2rNst9bvc7LIlteduNjQ\", \"alias\": \"hip-hop-burger-nyc-brooklyn\", \"name\": \"Hip Hop Burger NYC\", \"image_url\": \"https://s3-media1.fl.yelpcdn.com/bphoto/YG45qokcV4qr-_2HhUO0Xg/o.jpg\", \"is_closed\": false, \"url\": \"https://www.yelp.com/biz/hip-hop-burger-nyc-brooklyn?adjust_creative=kCWh97FC3e0Y7Emck3mGaw&utm_campaign=yelp_api_v3&utm_medium=api_v3_business_search&utm_source=kCWh97FC3e0Y7Emck3mGaw\", \"review_count\": 5, \"categories\": [{\"alias\": \"burgers\", \"title\": \"Burgers\"}, {\"alias\": \"seafood\", \"title\": \"Seafood\"}], \"rating\": 4.0, \"coordinates\": {\"latitude\": 40.686426, \"longitude\": -73.916241}, \"transactions\": [\"delivery\", \"pickup\"], \"location\": {\"address1\": \"1543 Broadway\", \"address2\": \"\", \"address3\": null, \"city\": \"Brooklyn\", \"zip_code\": \"11221\", \"country\": \"US\", \"state\": \"NY\", \"display_address\": [\"1543 Broadway\", \"Brooklyn, NY 11221\"]}, \"phone\": \"+17187753888\", \"display_phone\": \"(718) 775-3888\", \"distance\": 4270.758776243901}, {\"id\": \"4BKaYXMJpT7sWe82f82hGA\", \"alias\": \"my-house-burgers-and-shakes-brooklyn\", \"name\": \"My House Burgers & Shakes\", \"image_url\": \"https://s3-media4.fl.yelpcdn.com/bphoto/yHzgB_AXkoaWggkbTUxk8g/o.jpg\", \"is_closed\": false, \"url\": \"https://www.yelp.com/biz/my-house-burgers-and-shakes-brooklyn?adjust_creative=kCWh97FC3e0Y7Emck3mGaw&utm_campaign=yelp_api_v3&utm_medium=api_v3_business_search&utm_source=kCWh97FC3e0Y7Emck3mGaw\", \"review_count\": 337, \"categories\": [{\"alias\": \"burgers\", \"title\": \"Burgers\"}, {\"alias\": \"chicken_wings\", \"title\": \"Chicken Wings\"}, {\"alias\": \"newamerican\", \"title\": \"American (New)\"}], \"rating\": 3.5, \"coordinates\": {\"latitude\": 40.586561, \"longitude\": -73.952798}, \"transactions\": [\"delivery\", \"pickup\"], \"price\": \"$$\", \"location\": {\"address1\": \"1650 Sheepshead Bay Rd\", \"address2\": \"\", \"address3\": \"\", \"city\": \"Brooklyn\", \"zip_code\": \"11235\", \"country\": \"US\", \"state\": \"NY\", \"display_address\": [\"1650 Sheepshead Bay Rd\", \"Brooklyn, NY 11235\"]}, \"phone\": \"+17189340400\", \"display_phone\": \"(718) 934-0400\", \"distance\": 7400.595944737737}, {\"id\": \"ZMfRwxL_Na0rnFQN6gM40Q\", \"alias\": \"bonnies-grill-brooklyn-2\", \"name\": \"Bonnie's Grill\", \"image_url\": \"https://s3-media2.fl.yelpcdn.com/bphoto/hJKYzCF0t95zlFMtyzneQg/o.jpg\", \"is_closed\": false, \"url\": \"https://www.yelp.com/biz/bonnies-grill-brooklyn-2?adjust_creative=kCWh97FC3e0Y7Emck3mGaw&utm_campaign=yelp_api_v3&utm_medium=api_v3_business_search&utm_source=kCWh97FC3e0Y7Emck3mGaw\", \"review_count\": 707, \"categories\": [{\"alias\": \"chicken_wings\", \"title\": \"Chicken Wings\"}, {\"alias\": \"burgers\", \"title\": \"Burgers\"}, {\"alias\": \"tradamerican\", \"title\": \"American (Traditional)\"}], \"rating\": 4.0, \"coordinates\": {\"latitude\": 40.67431, \"longitude\": -73.98221}, \"transactions\": [\"delivery\", \"pickup\"], \"location\": {\"address1\": \"278 5th Ave\", \"address2\": null, \"address3\": \"\", \"city\": \"Brooklyn\", \"zip_code\": \"11215\", \"country\": \"US\", \"state\": \"NY\", \"display_address\": [\"278 5th Ave\", \"Brooklyn, NY 11215\"]}, \"phone\": \"+17183699527\", \"display_phone\": \"(718) 369-9527\", \"distance\": 4374.447785923479}, {\"id\": \"Hb9QBDHr2wHuqpDOJS-txQ\", \"alias\": \"dutch-boy-burger-brooklyn\", \"name\": \"Dutch Boy Burger\", \"image_url\": \"https://s3-media2.fl.yelpcdn.com/bphoto/eZxU261RHg_Sjh3UF4tt1Q/o.jpg\", \"is_closed\": false, \"url\": \"https://www.yelp.com/biz/dutch-boy-burger-brooklyn?adjust_creative=kCWh97FC3e0Y7Emck3mGaw&utm_campaign=yelp_api_v3&utm_medium=api_v3_business_search&utm_source=kCWh97FC3e0Y7Emck3mGaw\", \"review_count\": 397, \"categories\": [{\"alias\": \"burgers\", \"title\": \"Burgers\"}], \"rating\": 3.0, \"coordinates\": {\"latitude\": 40.672248, \"longitude\": -73.957839}, \"transactions\": [\"delivery\", \"pickup\"], \"price\": \"$$\", \"location\": {\"address1\": \"766 Franklin Ave\", \"address2\": \"Ste A\", \"address3\": \"\", \"city\": \"Brooklyn\", \"zip_code\": \"11238\", \"country\": \"US\", \"state\": \"NY\", \"display_address\": [\"766 Franklin Ave\", \"Ste A\", \"Brooklyn, NY 11238\"]}, \"phone\": \"+17182300293\", \"display_phone\": \"(718) 230-0293\", \"distance\": 2693.778914131831}, {\"id\": \"t-IJEohGK7awLfzj6OlM_g\", \"alias\": \"burger-village-brooklyn-5\", \"name\": \"Burger Village\", \"image_url\": \"https://s3-media2.fl.yelpcdn.com/bphoto/VCSdQtyJKpxwWK4_Z46oXw/o.jpg\", \"is_closed\": false, \"url\": \"https://www.yelp.com/biz/burger-village-brooklyn-5?adjust_creative=kCWh97FC3e0Y7Emck3mGaw&utm_campaign=yelp_api_v3&utm_medium=api_v3_business_search&utm_source=kCWh97FC3e0Y7Emck3mGaw\", \"review_count\": 244, \"categories\": [{\"alias\": \"burgers\", \"title\": \"Burgers\"}], \"rating\": 3.5, \"coordinates\": {\"latitude\": 40.6704263, \"longitude\": -73.9789111}, \"transactions\": [\"delivery\", \"pickup\"], \"price\": \"$$\", \"location\": {\"address1\": \"222 7th Ave\", \"address2\": \"\", \"address3\": \"\", \"city\": \"Brooklyn\", \"zip_code\": \"11215\", \"country\": \"US\", \"state\": \"NY\", \"display_address\": [\"222 7th Ave\", \"Brooklyn, NY 11215\"]}, \"phone\": \"+17184994165\", \"display_phone\": \"(718) 499-4165\", \"distance\": 3895.8581581952244}, {\"id\": \"NDntYYgQlNSMZcminW03rg\", \"alias\": \"burger-village-brooklyn-8\", \"name\": \"Burger Village\", \"image_url\": \"https://s3-media4.fl.yelpcdn.com/bphoto/e2B_2vaMqgQ87UG9PaWIZA/o.jpg\", \"is_closed\": false, \"url\": \"https://www.yelp.com/biz/burger-village-brooklyn-8?adjust_creative=kCWh97FC3e0Y7Emck3mGaw&utm_campaign=yelp_api_v3&utm_medium=api_v3_business_search&utm_source=kCWh97FC3e0Y7Emck3mGaw\", \"review_count\": 14, \"categories\": [{\"alias\": \"burgers\", \"title\": \"Burgers\"}, {\"alias\": \"gluten_free\", \"title\": \"Gluten-Free\"}, {\"alias\": \"vegan\", \"title\": \"Vegan\"}], \"rating\": 4.0, \"coordinates\": {\"latitude\": 40.6885381261769, \"longitude\": -73.9831304054385}, \"transactions\": [\"delivery\", \"pickup\"], \"location\": {\"address1\": \"286 Livingston St\", \"address2\": \"\", \"address3\": null, \"city\": \"Brooklyn\", \"zip_code\": \"11201\", \"country\": \"US\", \"state\": \"NY\", \"display_address\": [\"286 Livingston St\", \"Brooklyn, NY 11201\"]}, \"phone\": \"+19179090594\", \"display_phone\": \"(917) 909-0594\", \"distance\": 5462.23857531478}, {\"id\": \"3J6_VtkkxVkXwG98mVZjEA\", \"alias\": \"burger-box-brooklyn\", \"name\": \"Burger Box\", \"image_url\": \"https://s3-media3.fl.yelpcdn.com/bphoto/gfsPxFpir2brhRrLGgRpng/o.jpg\", \"is_closed\": false, \"url\": \"https://www.yelp.com/biz/burger-box-brooklyn?adjust_creative=kCWh97FC3e0Y7Emck3mGaw&utm_campaign=yelp_api_v3&utm_medium=api_v3_business_search&utm_source=kCWh97FC3e0Y7Emck3mGaw\", \"review_count\": 33, \"categories\": [{\"alias\": \"burgers\", \"title\": \"Burgers\"}, {\"alias\": \"chicken_wings\", \"title\": \"Chicken Wings\"}], \"rating\": 3.5, \"coordinates\": {\"latitude\": 40.59373, \"longitude\": -73.94025}, \"transactions\": [\"delivery\", \"pickup\"], \"location\": {\"address1\": \"2930 Avenue X\", \"address2\": null, \"address3\": \"\", \"city\": \"Brooklyn\", \"zip_code\": \"11235\", \"country\": \"US\", \"state\": \"NY\", \"display_address\": [\"2930 Avenue X\", \"Brooklyn, NY 11235\"]}, \"phone\": \"+17187596474\", \"display_phone\": \"(718) 759-6474\", \"distance\": 6526.815764081052}, {\"id\": \"QkHTyN7gIlv8BROf3e3dKg\", \"alias\": \"smashburger-brooklyn-3\", \"name\": \"Smashburger\", \"image_url\": \"https://s3-media3.fl.yelpcdn.com/bphoto/Tx50aoq0T5BkzE71ixeHKg/o.jpg\", \"is_closed\": false, \"url\": \"https://www.yelp.com/biz/smashburger-brooklyn-3?adjust_creative=kCWh97FC3e0Y7Emck3mGaw&utm_campaign=yelp_api_v3&utm_medium=api_v3_business_search&utm_source=kCWh97FC3e0Y7Emck3mGaw\", \"review_count\": 341, \"categories\": [{\"alias\": \"burgers\", \"title\": \"Burgers\"}, {\"alias\": \"breakfast_brunch\", \"title\": \"Breakfast & Brunch\"}], \"rating\": 3.5, \"coordinates\": {\"latitude\": 40.68968, \"longitude\": -73.97994}, \"transactions\": [\"delivery\", \"pickup\"], \"price\": \"$$\", \"location\": {\"address1\": \"74 Dekalb Ave\", \"address2\": \"\", \"address3\": \"\", \"city\": \"Brooklyn\", \"zip_code\": \"11201\", \"country\": \"US\", \"state\": \"NY\", \"display_address\": [\"74 Dekalb Ave\", \"Brooklyn, NY 11201\"]}, \"phone\": \"+17182221101\", \"display_phone\": \"(718) 222-1101\", \"distance\": 5384.221468476326}, {\"id\": \"MjSVlekDlCQhgooexu8mIg\", \"alias\": \"shake-shack-brooklyn-4\", \"name\": \"Shake Shack\", \"image_url\": \"https://s3-media1.fl.yelpcdn.com/bphoto/Avq9u1xyb_obvwi2dhSrAA/o.jpg\", \"is_closed\": false, \"url\": \"https://www.yelp.com/biz/shake-shack-brooklyn-4?adjust_creative=kCWh97FC3e0Y7Emck3mGaw&utm_campaign=yelp_api_v3&utm_medium=api_v3_business_search&utm_source=kCWh97FC3e0Y7Emck3mGaw\", \"review_count\": 379, \"categories\": [{\"alias\": \"burgers\", \"title\": \"Burgers\"}, {\"alias\": \"hotdog\", \"title\": \"Hot Dogs\"}], \"rating\": 4.0, \"coordinates\": {\"latitude\": 40.68269, \"longitude\": -73.97668}, \"transactions\": [\"delivery\"], \"price\": \"$$\", \"location\": {\"address1\": \"170 Flatbush Ave\", \"address2\": \"\", \"address3\": \"\", \"city\": \"Brooklyn\", \"zip_code\": \"11217\", \"country\": \"US\", \"state\": \"NY\", \"display_address\": [\"170 Flatbush Ave\", \"Brooklyn, NY 11217\"]}, \"phone\": \"+13474427721\", \"display_phone\": \"(347) 442-7721\", \"distance\": 4610.990976135022}, {\"id\": \"bugAkkpXAW6e3FRf7IQVHQ\", \"alias\": \"next-level-burger-brooklyn\", \"name\": \"Next Level Burger\", \"image_url\": \"https://s3-media4.fl.yelpcdn.com/bphoto/PvJf8AqcwA64f4LXPBJvYQ/o.jpg\", \"is_closed\": false, \"url\": \"https://www.yelp.com/biz/next-level-burger-brooklyn?adjust_creative=kCWh97FC3e0Y7Emck3mGaw&utm_campaign=yelp_api_v3&utm_medium=api_v3_business_search&utm_source=kCWh97FC3e0Y7Emck3mGaw\", \"review_count\": 198, \"categories\": [{\"alias\": \"burgers\", \"title\": \"Burgers\"}, {\"alias\": \"vegan\", \"title\": \"Vegan\"}, {\"alias\": \"gluten_free\", \"title\": \"Gluten-Free\"}], \"rating\": 4.0, \"coordinates\": {\"latitude\": 40.6866202166365, \"longitude\": -73.978229173433}, \"transactions\": [\"delivery\", \"pickup\"], \"price\": \"$$\", \"location\": {\"address1\": \"292 Ashland Pl\", \"address2\": null, \"address3\": null, \"city\": \"Brooklyn\", \"zip_code\": \"11217\", \"country\": \"US\", \"state\": \"NY\", \"display_address\": [\"292 Ashland Pl\", \"Brooklyn, NY 11217\"]}, \"phone\": \"+13473842277\", \"display_phone\": \"(347) 384-2277\", \"distance\": 5019.36534389141}, {\"id\": \"5IaVixidQ_h_dwSztNkhjQ\", \"alias\": \"butcher-s-son-brooklyn-3\", \"name\": \"Butcher\\u2019s Son\", \"image_url\": \"https://s3-media1.fl.yelpcdn.com/bphoto/8Zar-Q4487bVxMx0CAs0PA/o.jpg\", \"is_closed\": false, \"url\": \"https://www.yelp.com/biz/butcher-s-son-brooklyn-3?adjust_creative=kCWh97FC3e0Y7Emck3mGaw&utm_campaign=yelp_api_v3&utm_medium=api_v3_business_search&utm_source=kCWh97FC3e0Y7Emck3mGaw\", \"review_count\": 36, \"categories\": [{\"alias\": \"burgers\", \"title\": \"Burgers\"}], \"rating\": 4.0, \"coordinates\": {\"latitude\": 40.70808517, \"longitude\": -73.92099617}, \"transactions\": [\"delivery\", \"pickup\"], \"location\": {\"address1\": \"400 Troutman St\", \"address2\": \"\", \"address3\": null, \"city\": \"Brooklyn\", \"zip_code\": \"11237\", \"country\": \"US\", \"state\": \"NY\", \"display_address\": [\"400 Troutman St\", \"Brooklyn, NY 11237\"]}, \"phone\": \"\", \"display_phone\": \"\", \"distance\": 6390.170823889887}, {\"id\": \"Q39xJvqJaM1xgDka8bQ80w\", \"alias\": \"black-iron-burger-brooklyn\", \"name\": \"Black Iron Burger\", \"image_url\": \"https://s3-media2.fl.yelpcdn.com/bphoto/CP5dThMQXcEmVx1TCjQasQ/o.jpg\", \"is_closed\": false, \"url\": \"https://www.yelp.com/biz/black-iron-burger-brooklyn?adjust_creative=kCWh97FC3e0Y7Emck3mGaw&utm_campaign=yelp_api_v3&utm_medium=api_v3_business_search&utm_source=kCWh97FC3e0Y7Emck3mGaw\", \"review_count\": 90, \"categories\": [{\"alias\": \"burgers\", \"title\": \"Burgers\"}, {\"alias\": \"newamerican\", \"title\": \"American (New)\"}, {\"alias\": \"beerbar\", \"title\": \"Beer Bar\"}], \"rating\": 4.0, \"coordinates\": {\"latitude\": 40.680368, \"longitude\": -73.975156}, \"transactions\": [\"delivery\", \"pickup\"], \"price\": \"$$\", \"location\": {\"address1\": \"234 Flatbush Ave\", \"address2\": \"\", \"address3\": null, \"city\": \"Brooklyn\", \"zip_code\": \"11217\", \"country\": \"US\", \"state\": \"NY\", \"display_address\": [\"234 Flatbush Ave\", \"Brooklyn, NY 11217\"]}, \"phone\": \"+19294196888\", \"display_phone\": \"(929) 419-6888\", \"distance\": 4338.66888919523}, {\"id\": \"dkvdQVEsuUUG6jTscAbQlA\", \"alias\": \"strange-flavor-burger-shack-brooklyn\", \"name\": \"Strange Flavor Burger Shack\", \"image_url\": \"https://s3-media2.fl.yelpcdn.com/bphoto/u2ERL8XWHkEBkMAH22GdKg/o.jpg\", \"is_closed\": false, \"url\": \"https://www.yelp.com/biz/strange-flavor-burger-shack-brooklyn?adjust_creative=kCWh97FC3e0Y7Emck3mGaw&utm_campaign=yelp_api_v3&utm_medium=api_v3_business_search&utm_source=kCWh97FC3e0Y7Emck3mGaw\", \"review_count\": 115, \"categories\": [{\"alias\": \"burgers\", \"title\": \"Burgers\"}, {\"alias\": \"asianfusion\", \"title\": \"Asian Fusion\"}, {\"alias\": \"vegetarian\", \"title\": \"Vegetarian\"}], \"rating\": 4.0, \"coordinates\": {\"latitude\": 40.70586, \"longitude\": -73.92388}, \"transactions\": [\"delivery\", \"pickup\"], \"price\": \"$$\", \"location\": {\"address1\": \"369 Troutman St\", \"address2\": \"Inside The Johnsons\", \"address3\": null, \"city\": \"Brooklyn\", \"zip_code\": \"11237\", \"country\": \"US\", \"state\": \"NY\", \"display_address\": [\"369 Troutman St\", \"Inside The Johnsons\", \"Brooklyn, NY 11237\"]}, \"phone\": \"+13476879471\", \"display_phone\": \"(347) 687-9471\", \"distance\": 6097.191880477385}, {\"id\": \"gm8BRPLIRTzapBuBUWNPfA\", \"alias\": \"island-burger-east-flatbush\", \"name\": \"Island Burger\", \"image_url\": \"https://s3-media3.fl.yelpcdn.com/bphoto/vnnjhtx3-tQ-XsCF8U5g-Q/o.jpg\", \"is_closed\": false, \"url\": \"https://www.yelp.com/biz/island-burger-east-flatbush?adjust_creative=kCWh97FC3e0Y7Emck3mGaw&utm_campaign=yelp_api_v3&utm_medium=api_v3_business_search&utm_source=kCWh97FC3e0Y7Emck3mGaw\", \"review_count\": 171, \"categories\": [{\"alias\": \"newamerican\", \"title\": \"American (New)\"}, {\"alias\": \"burgers\", \"title\": \"Burgers\"}], \"rating\": 3.5, \"coordinates\": {\"latitude\": 40.6345, \"longitude\": -73.94766}, \"transactions\": [], \"price\": \"$\", \"location\": {\"address1\": \"2093 Nostrand Ave\", \"address2\": \"\", \"address3\": \"\", \"city\": \"East Flatbush\", \"zip_code\": \"11210\", \"country\": \"US\", \"state\": \"NY\", \"display_address\": [\"2093 Nostrand Ave\", \"East Flatbush, NY 11210\"]}, \"phone\": \"+13477899955\", \"display_phone\": \"(347) 789-9955\", \"distance\": 2101.0303533298847}, {\"id\": \"p5vjmtsAhklqAAA4qpo1bQ\", \"alias\": \"pops-eat-rite-new-york\", \"name\": \"Pop's Eat-Rite\", \"image_url\": \"https://s3-media3.fl.yelpcdn.com/bphoto/hXRivIVEeRMhzxf7juZ0OQ/o.jpg\", \"is_closed\": false, \"url\": \"https://www.yelp.com/biz/pops-eat-rite-new-york?adjust_creative=kCWh97FC3e0Y7Emck3mGaw&utm_campaign=yelp_api_v3&utm_medium=api_v3_business_search&utm_source=kCWh97FC3e0Y7Emck3mGaw\", \"review_count\": 8, \"categories\": [{\"alias\": \"burgers\", \"title\": \"Burgers\"}, {\"alias\": \"vegetarian\", \"title\": \"Vegetarian\"}, {\"alias\": \"vegan\", \"title\": \"Vegan\"}], \"rating\": 5.0, \"coordinates\": {\"latitude\": 40.726996, \"longitude\": -73.983388}, \"transactions\": [], \"location\": {\"address1\": \"123 St Marks Pl\", \"address2\": null, \"address3\": \"\", \"city\": \"New York\", \"zip_code\": \"10009\", \"country\": \"US\", \"state\": \"NY\", \"display_address\": [\"123 St Marks Pl\", \"New York, NY 10009\"]}, \"phone\": \"\", \"display_phone\": \"\", \"distance\": 9084.217350217488}, {\"id\": \"CgIQAtAqafmU_ep9wHW81w\", \"alias\": \"blue-collar-brooklyn\", \"name\": \"Blue Collar\", \"image_url\": \"https://s3-media2.fl.yelpcdn.com/bphoto/0lEumIg95Ou9iRCLsgt04g/o.jpg\", \"is_closed\": false, \"url\": \"https://www.yelp.com/biz/blue-collar-brooklyn?adjust_creative=kCWh97FC3e0Y7Emck3mGaw&utm_campaign=yelp_api_v3&utm_medium=api_v3_business_search&utm_source=kCWh97FC3e0Y7Emck3mGaw\", \"review_count\": 258, \"categories\": [{\"alias\": \"burgers\", \"title\": \"Burgers\"}, {\"alias\": \"hotdogs\", \"title\": \"Fast Food\"}, {\"alias\": \"hotdog\", \"title\": \"Hot Dogs\"}], \"rating\": 3.5, \"coordinates\": {\"latitude\": 40.7114104643985, \"longitude\": -73.9578148975631}, \"transactions\": [\"delivery\", \"pickup\"], \"price\": \"$$\", \"location\": {\"address1\": \"160 Havemeyer St\", \"address2\": \"\", \"address3\": \"\", \"city\": \"Brooklyn\", \"zip_code\": \"11211\", \"country\": \"US\", \"state\": \"NY\", \"display_address\": [\"160 Havemeyer St\", \"Brooklyn, NY 11211\"]}, \"phone\": \"+13477253837\", \"display_phone\": \"(347) 725-3837\", \"distance\": 6751.194209059821}, {\"id\": \"pGZ4AOzVlhveJi6WJ1Xz6g\", \"alias\": \"bareburger-brooklyn\", \"name\": \"Bareburger\", \"image_url\": \"https://s3-media3.fl.yelpcdn.com/bphoto/YICS2GXuzcLgDqIao4qpdQ/o.jpg\", \"is_closed\": false, \"url\": \"https://www.yelp.com/biz/bareburger-brooklyn?adjust_creative=kCWh97FC3e0Y7Emck3mGaw&utm_campaign=yelp_api_v3&utm_medium=api_v3_business_search&utm_source=kCWh97FC3e0Y7Emck3mGaw\", \"review_count\": 484, \"categories\": [{\"alias\": \"burgers\", \"title\": \"Burgers\"}, {\"alias\": \"salad\", \"title\": \"Salad\"}, {\"alias\": \"newamerican\", \"title\": \"American (New)\"}], \"rating\": 3.5, \"coordinates\": {\"latitude\": 40.67188, \"longitude\": -73.97761}, \"transactions\": [\"delivery\", \"pickup\"], \"price\": \"$$\", \"location\": {\"address1\": \"170 7th Ave\", \"address2\": \"\", \"address3\": \"\", \"city\": \"Brooklyn\", \"zip_code\": \"11215\", \"country\": \"US\", \"state\": \"NY\", \"display_address\": [\"170 7th Ave\", \"Brooklyn, NY 11215\"]}, \"phone\": \"+17187682273\", \"display_phone\": \"(718) 768-2273\", \"distance\": 3894.7004906182574}, {\"id\": \"m86CNmYThtzzWB3nPnrhbg\", \"alias\": \"emily-west-village-new-york\", \"name\": \"Emily - West Village\", \"image_url\": \"https://s3-media2.fl.yelpcdn.com/bphoto/KpZUiNWEBO2EL0LfM2s8gg/o.jpg\", \"is_closed\": false, \"url\": \"https://www.yelp.com/biz/emily-west-village-new-york?adjust_creative=kCWh97FC3e0Y7Emck3mGaw&utm_campaign=yelp_api_v3&utm_medium=api_v3_business_search&utm_source=kCWh97FC3e0Y7Emck3mGaw\", \"review_count\": 651, \"categories\": [{\"alias\": \"pizza\", \"title\": \"Pizza\"}, {\"alias\": \"burgers\", \"title\": \"Burgers\"}], \"rating\": 4.0, \"coordinates\": {\"latitude\": 40.729330068469, \"longitude\": -74.0038400073579}, \"transactions\": [\"delivery\", \"pickup\"], \"price\": \"$$\", \"location\": {\"address1\": \"35 Downing St\", \"address2\": \"\", \"address3\": null, \"city\": \"New York\", \"zip_code\": \"10014\", \"country\": \"US\", \"state\": \"NY\", \"display_address\": [\"35 Downing St\", \"New York, NY 10014\"]}, \"phone\": \"+19179356434\", \"display_phone\": \"(917) 935-6434\", \"distance\": 10144.462798233651}, {\"id\": \"gvrtlZAfkMY-kW_3nziB-A\", \"alias\": \"burger-inc-nyc-brooklyn-new-york-5\", \"name\": \"Burger Inc NYC - Brooklyn\", \"image_url\": \"https://s3-media2.fl.yelpcdn.com/bphoto/T7sUpyzaFPDEJYQlJUgWvA/o.jpg\", \"is_closed\": false, \"url\": \"https://www.yelp.com/biz/burger-inc-nyc-brooklyn-new-york-5?adjust_creative=kCWh97FC3e0Y7Emck3mGaw&utm_campaign=yelp_api_v3&utm_medium=api_v3_business_search&utm_source=kCWh97FC3e0Y7Emck3mGaw\", \"review_count\": 23, \"categories\": [{\"alias\": \"tradamerican\", \"title\": \"American (Traditional)\"}], \"rating\": 4.0, \"coordinates\": {\"latitude\": 40.7170970038509, \"longitude\": -73.9592721769131}, \"transactions\": [\"delivery\", \"pickup\"], \"location\": {\"address1\": \"135A N 5th St\", \"address2\": null, \"address3\": \"\", \"city\": \"New York\", \"zip_code\": \"11249\", \"country\": \"US\", \"state\": \"NY\", \"display_address\": [\"135A N 5th St\", \"New York, NY 11249\"]}, \"phone\": \"+13474639555\", \"display_phone\": \"(347) 463-9555\", \"distance\": 7394.8360430080065}, {\"id\": \"wP6yFT_H_gevLQq3tOYy3Q\", \"alias\": \"island-burger-brooklyn-2\", \"name\": \"Island Burger\", \"image_url\": \"https://s3-media4.fl.yelpcdn.com/bphoto/82a62wM474l1EZqbs72pRQ/o.jpg\", \"is_closed\": false, \"url\": \"https://www.yelp.com/biz/island-burger-brooklyn-2?adjust_creative=kCWh97FC3e0Y7Emck3mGaw&utm_campaign=yelp_api_v3&utm_medium=api_v3_business_search&utm_source=kCWh97FC3e0Y7Emck3mGaw\", \"review_count\": 182, \"categories\": [{\"alias\": \"burgers\", \"title\": \"Burgers\"}], \"rating\": 3.5, \"coordinates\": {\"latitude\": 40.6617093, \"longitude\": -73.93178}, \"transactions\": [\"delivery\", \"pickup\"], \"price\": \"$$\", \"location\": {\"address1\": \"504 Utica Ave\", \"address2\": \"\", \"address3\": \"\", \"city\": \"Brooklyn\", \"zip_code\": \"11203\", \"country\": \"US\", \"state\": \"NY\", \"display_address\": [\"504 Utica Ave\", \"Brooklyn, NY 11203\"]}, \"phone\": \"+17184952474\", \"display_phone\": \"(718) 495-2474\", \"distance\": 1223.3899547853869}, {\"id\": \"WUPrcnURSfibzPdAr0AA-g\", \"alias\": \"home-frite-brooklyn-3\", \"name\": \"Home Frite\", \"image_url\": \"https://s3-media2.fl.yelpcdn.com/bphoto/Bs1XfxA4WopVLgtE_eX9fQ/o.jpg\", \"is_closed\": false, \"url\": \"https://www.yelp.com/biz/home-frite-brooklyn-3?adjust_creative=kCWh97FC3e0Y7Emck3mGaw&utm_campaign=yelp_api_v3&utm_medium=api_v3_business_search&utm_source=kCWh97FC3e0Y7Emck3mGaw\", \"review_count\": 123, \"categories\": [{\"alias\": \"foodstands\", \"title\": \"Food Stands\"}, {\"alias\": \"burgers\", \"title\": \"Burgers\"}, {\"alias\": \"newamerican\", \"title\": \"American (New)\"}], \"rating\": 4.0, \"coordinates\": {\"latitude\": 40.688207, \"longitude\": -73.954681}, \"transactions\": [\"delivery\", \"pickup\"], \"price\": \"$$\", \"location\": {\"address1\": \"1047 Bedford Ave\", \"address2\": \"\", \"address3\": \"Store 2\", \"city\": \"Brooklyn\", \"zip_code\": \"11216\", \"country\": \"US\", \"state\": \"NY\", \"display_address\": [\"1047 Bedford Ave\", \"Store 2\", \"Brooklyn, NY 11216\"]}, \"phone\": \"+13476273266\", \"display_phone\": \"(347) 627-3266\", \"distance\": 4193.324175255724}, {\"id\": \"3aMjf-zblMsOYnzXV5D70A\", \"alias\": \"moo-burger-brooklyn\", \"name\": \"Moo Burger\", \"image_url\": \"https://s3-media3.fl.yelpcdn.com/bphoto/7yEdWCCf3VowUoW0G3kDFQ/o.jpg\", \"is_closed\": false, \"url\": \"https://www.yelp.com/biz/moo-burger-brooklyn?adjust_creative=kCWh97FC3e0Y7Emck3mGaw&utm_campaign=yelp_api_v3&utm_medium=api_v3_business_search&utm_source=kCWh97FC3e0Y7Emck3mGaw\", \"review_count\": 453, \"categories\": [{\"alias\": \"burgers\", \"title\": \"Burgers\"}, {\"alias\": \"hotdog\", \"title\": \"Hot Dogs\"}, {\"alias\": \"salad\", \"title\": \"Salad\"}], \"rating\": 4.0, \"coordinates\": {\"latitude\": 40.685823, \"longitude\": -73.994528}, \"transactions\": [\"delivery\", \"pickup\"], \"price\": \"$$\", \"location\": {\"address1\": \"240 Court St\", \"address2\": \"\", \"address3\": \"\", \"city\": \"Brooklyn\", \"zip_code\": \"11201\", \"country\": \"US\", \"state\": \"NY\", \"display_address\": [\"240 Court St\", \"Brooklyn, NY 11201\"]}, \"phone\": \"+17182468259\", \"display_phone\": \"(718) 246-8259\", \"distance\": 5959.983709340026}, {\"id\": \"D2qV8sDdHEFlHbVz7VSHRQ\", \"alias\": \"black-tap-soho-new-york-3\", \"name\": \"Black Tap - Soho\", \"image_url\": \"https://s3-media4.fl.yelpcdn.com/bphoto/3Jm6Riap3vSt7grwgISbvg/o.jpg\", \"is_closed\": false, \"url\": \"https://www.yelp.com/biz/black-tap-soho-new-york-3?adjust_creative=kCWh97FC3e0Y7Emck3mGaw&utm_campaign=yelp_api_v3&utm_medium=api_v3_business_search&utm_source=kCWh97FC3e0Y7Emck3mGaw\", \"review_count\": 1182, \"categories\": [{\"alias\": \"tradamerican\", \"title\": \"American (Traditional)\"}, {\"alias\": \"burgers\", \"title\": \"Burgers\"}, {\"alias\": \"beerbar\", \"title\": \"Beer Bar\"}], \"rating\": 3.5, \"coordinates\": {\"latitude\": 40.723794, \"longitude\": -74.004193}, \"transactions\": [\"delivery\", \"pickup\"], \"price\": \"$$\", \"location\": {\"address1\": \"529 Broome St\", \"address2\": \"\", \"address3\": \"\", \"city\": \"New York\", \"zip_code\": \"10013\", \"country\": \"US\", \"state\": \"NY\", \"display_address\": [\"529 Broome St\", \"New York, NY 10013\"]}, \"phone\": \"+19176393089\", \"display_phone\": \"(917) 639-3089\", \"distance\": 9644.994493888074}, {\"id\": \"zFnQ767OE3yKRE4ajNNUng\", \"alias\": \"sliderup-colonia\", \"name\": \"SliderUp\", \"image_url\": \"https://s3-media2.fl.yelpcdn.com/bphoto/ti0GdOQh7p68owZI32UQzA/o.jpg\", \"is_closed\": false, \"url\": \"https://www.yelp.com/biz/sliderup-colonia?adjust_creative=kCWh97FC3e0Y7Emck3mGaw&utm_campaign=yelp_api_v3&utm_medium=api_v3_business_search&utm_source=kCWh97FC3e0Y7Emck3mGaw\", \"review_count\": 19, \"categories\": [{\"alias\": \"burgers\", \"title\": \"Burgers\"}], \"rating\": 4.5, \"coordinates\": {\"latitude\": 40.584462, \"longitude\": -74.293146}, \"transactions\": [], \"location\": {\"address1\": \"1331 St Georges Ave\", \"address2\": \"\", \"address3\": null, \"city\": \"Colonia\", \"zip_code\": \"07067\", \"country\": \"US\", \"state\": \"NJ\", \"display_address\": [\"1331 St Georges Ave\", \"Colonia, NJ 07067\"]}, \"phone\": \"+17324284370\", \"display_phone\": \"(732) 428-4370\", \"distance\": 30799.56995262623}, {\"id\": \"HqVdTKCpOZWrCvUF9rG2sA\", \"alias\": \"brennan-and-carr-brooklyn-3\", \"name\": \"Brennan & Carr\", \"image_url\": \"https://s3-media1.fl.yelpcdn.com/bphoto/0T6LNVkajQGhk36Gc95zsg/o.jpg\", \"is_closed\": false, \"url\": \"https://www.yelp.com/biz/brennan-and-carr-brooklyn-3?adjust_creative=kCWh97FC3e0Y7Emck3mGaw&utm_campaign=yelp_api_v3&utm_medium=api_v3_business_search&utm_source=kCWh97FC3e0Y7Emck3mGaw\", \"review_count\": 674, \"categories\": [{\"alias\": \"tradamerican\", \"title\": \"American (Traditional)\"}], \"rating\": 4.0, \"coordinates\": {\"latitude\": 40.600247, \"longitude\": -73.942094}, \"transactions\": [], \"price\": \"$$\", \"location\": {\"address1\": \"3432 Nostrand Ave\", \"address2\": \"\", \"address3\": \"\", \"city\": \"Brooklyn\", \"zip_code\": \"11229\", \"country\": \"US\", \"state\": \"NY\", \"display_address\": [\"3432 Nostrand Ave\", \"Brooklyn, NY 11229\"]}, \"phone\": \"+17187691254\", \"display_phone\": \"(718) 769-1254\", \"distance\": 5796.935584778978}, {\"id\": \"HDDBpOKpKqRza-IhiE4CTw\", \"alias\": \"bareburger-brooklyn-3\", \"name\": \"Bareburger\", \"image_url\": \"https://s3-media1.fl.yelpcdn.com/bphoto/Vwuff0Xq3XSwJp9RX7Lkhw/o.jpg\", \"is_closed\": false, \"url\": \"https://www.yelp.com/biz/bareburger-brooklyn-3?adjust_creative=kCWh97FC3e0Y7Emck3mGaw&utm_campaign=yelp_api_v3&utm_medium=api_v3_business_search&utm_source=kCWh97FC3e0Y7Emck3mGaw\", \"review_count\": 372, \"categories\": [{\"alias\": \"burgers\", \"title\": \"Burgers\"}, {\"alias\": \"salad\", \"title\": \"Salad\"}, {\"alias\": \"tradamerican\", \"title\": \"American (Traditional)\"}], \"rating\": 3.5, \"coordinates\": {\"latitude\": 40.68921, \"longitude\": -73.99245}, \"transactions\": [\"delivery\", \"pickup\"], \"price\": \"$$\", \"location\": {\"address1\": \"149 Court St\", \"address2\": \"\", \"address3\": \"\", \"city\": \"Brooklyn\", \"zip_code\": \"11201\", \"country\": \"US\", \"state\": \"NY\", \"display_address\": [\"149 Court St\", \"Brooklyn, NY 11201\"]}, \"phone\": \"+13475296673\", \"display_phone\": \"(347) 529-6673\", \"distance\": 6065.4207209675515}, {\"id\": \"NDIrifAl6K-RrnZ2D3ZGbw\", \"alias\": \"emily-brooklyn-2\", \"name\": \"Emily\", \"image_url\": \"https://s3-media2.fl.yelpcdn.com/bphoto/8yYb5qiZbbP7dJWuUE_AMw/o.jpg\", \"is_closed\": false, \"url\": \"https://www.yelp.com/biz/emily-brooklyn-2?adjust_creative=kCWh97FC3e0Y7Emck3mGaw&utm_campaign=yelp_api_v3&utm_medium=api_v3_business_search&utm_source=kCWh97FC3e0Y7Emck3mGaw\", \"review_count\": 788, \"categories\": [{\"alias\": \"tradamerican\", \"title\": \"American (Traditional)\"}], \"rating\": 4.0, \"coordinates\": {\"latitude\": 40.68351, \"longitude\": -73.96643}, \"transactions\": [\"delivery\", \"pickup\"], \"price\": \"$$$\", \"location\": {\"address1\": \"919 Fulton St\", \"address2\": \"\", \"address3\": null, \"city\": \"Brooklyn\", \"zip_code\": \"11238\", \"country\": \"US\", \"state\": \"NY\", \"display_address\": [\"919 Fulton St\", \"Brooklyn, NY 11238\"]}, \"phone\": \"+13478449588\", \"display_phone\": \"(347) 844-9588\", \"distance\": 4151.187882260201}, {\"id\": \"__EvomQ2tE1NtkWn32WEXg\", \"alias\": \"au-cheval-new-york-7\", \"name\": \"Au Cheval\", \"image_url\": \"https://s3-media2.fl.yelpcdn.com/bphoto/4M4USl_GwCgN0-slqGhO0A/o.jpg\", \"is_closed\": false, \"url\": \"https://www.yelp.com/biz/au-cheval-new-york-7?adjust_creative=kCWh97FC3e0Y7Emck3mGaw&utm_campaign=yelp_api_v3&utm_medium=api_v3_business_search&utm_source=kCWh97FC3e0Y7Emck3mGaw\", \"review_count\": 479, \"categories\": [{\"alias\": \"burgers\", \"title\": \"Burgers\"}, {\"alias\": \"diners\", \"title\": \"Diners\"}], \"rating\": 4.5, \"coordinates\": {\"latitude\": 40.7183878, \"longitude\": -74.0015522}, \"transactions\": [], \"location\": {\"address1\": \"33 Cortlandt Alley\", \"address2\": \"\", \"address3\": null, \"city\": \"New York\", \"zip_code\": \"10013\", \"country\": \"US\", \"state\": \"NY\", \"display_address\": [\"33 Cortlandt Alley\", \"New York, NY 10013\"]}, \"phone\": \"+19177106039\", \"display_phone\": \"(917) 710-6039\", \"distance\": 9021.844805332865}, {\"id\": \"IbB_7AxWQtDFW1iKnoD1Ug\", \"alias\": \"bk-jani-brooklyn-3\", \"name\": \"BK JANI\", \"image_url\": \"https://s3-media3.fl.yelpcdn.com/bphoto/EL6I8Q_akEWFGVViolC9cA/o.jpg\", \"is_closed\": false, \"url\": \"https://www.yelp.com/biz/bk-jani-brooklyn-3?adjust_creative=kCWh97FC3e0Y7Emck3mGaw&utm_campaign=yelp_api_v3&utm_medium=api_v3_business_search&utm_source=kCWh97FC3e0Y7Emck3mGaw\", \"review_count\": 346, \"categories\": [{\"alias\": \"pakistani\", \"title\": \"Pakistani\"}, {\"alias\": \"burgers\", \"title\": \"Burgers\"}, {\"alias\": \"halal\", \"title\": \"Halal\"}], \"rating\": 4.0, \"coordinates\": {\"latitude\": 40.711757, \"longitude\": -73.945303}, \"transactions\": [\"delivery\", \"pickup\"], \"price\": \"$$\", \"location\": {\"address1\": \"679 Grand St\", \"address2\": \"\", \"address3\": \"\", \"city\": \"Brooklyn\", \"zip_code\": \"11211\", \"country\": \"US\", \"state\": \"NY\", \"display_address\": [\"679 Grand St\", \"Brooklyn, NY 11211\"]}, \"phone\": \"+13474605110\", \"display_phone\": \"(347) 460-5110\", \"distance\": 6621.154249014062}, {\"id\": \"5AmoQGivy-trLWkifbA1NA\", \"alias\": \"blue-collar-bushwick-brooklyn\", \"name\": \"Blue Collar Bushwick\", \"image_url\": \"https://s3-media2.fl.yelpcdn.com/bphoto/V4jcg_07rr-giReRaVZR4A/o.jpg\", \"is_closed\": false, \"url\": \"https://www.yelp.com/biz/blue-collar-bushwick-brooklyn?adjust_creative=kCWh97FC3e0Y7Emck3mGaw&utm_campaign=yelp_api_v3&utm_medium=api_v3_business_search&utm_source=kCWh97FC3e0Y7Emck3mGaw\", \"review_count\": 29, \"categories\": [{\"alias\": \"burgers\", \"title\": \"Burgers\"}, {\"alias\": \"hotdogs\", \"title\": \"Fast Food\"}], \"rating\": 3.5, \"coordinates\": {\"latitude\": 40.702877, \"longitude\": -73.9203941}, \"transactions\": [\"delivery\", \"pickup\"], \"location\": {\"address1\": \"1554 Dekalb Ave\", \"address2\": null, \"address3\": \"\", \"city\": \"Brooklyn\", \"zip_code\": \"11237\", \"country\": \"US\", \"state\": \"NY\", \"display_address\": [\"1554 Dekalb Ave\", \"Brooklyn, NY 11237\"]}, \"phone\": \"+17186288800\", \"display_phone\": \"(718) 628-8800\", \"distance\": 5844.921763499892}, {\"id\": \"uT9AowKJcAN59Mteud36lA\", \"alias\": \"shake-shack-brooklyn\", \"name\": \"Shake Shack\", \"image_url\": \"https://s3-media2.fl.yelpcdn.com/bphoto/j97UlG_tk6djEC0u6ymZRA/o.jpg\", \"is_closed\": false, \"url\": \"https://www.yelp.com/biz/shake-shack-brooklyn?adjust_creative=kCWh97FC3e0Y7Emck3mGaw&utm_campaign=yelp_api_v3&utm_medium=api_v3_business_search&utm_source=kCWh97FC3e0Y7Emck3mGaw\", \"review_count\": 855, \"categories\": [{\"alias\": \"burgers\", \"title\": \"Burgers\"}, {\"alias\": \"icecream\", \"title\": \"Ice Cream & Frozen Yogurt\"}], \"rating\": 4.0, \"coordinates\": {\"latitude\": 40.6920881, \"longitude\": -73.9888694}, \"transactions\": [\"delivery\"], \"price\": \"$$\", \"location\": {\"address1\": \"409 Fulton St\", \"address2\": \"\", \"address3\": \"\", \"city\": \"Brooklyn\", \"zip_code\": \"11201\", \"country\": \"US\", \"state\": \"NY\", \"display_address\": [\"409 Fulton St\", \"Brooklyn, NY 11201\"]}, \"phone\": \"+17183077599\", \"display_phone\": \"(718) 307-7599\", \"distance\": 6080.881608227663}, {\"id\": \"EZ9RJ9E4uJU0arspPm3Syw\", \"alias\": \"martys-burgers-fort-lee\", \"name\": \"Marty's Burgers\", \"image_url\": \"https://s3-media1.fl.yelpcdn.com/bphoto/cr68LxkNkBwX7q6jgjbxLw/o.jpg\", \"is_closed\": false, \"url\": \"https://www.yelp.com/biz/martys-burgers-fort-lee?adjust_creative=kCWh97FC3e0Y7Emck3mGaw&utm_campaign=yelp_api_v3&utm_medium=api_v3_business_search&utm_source=kCWh97FC3e0Y7Emck3mGaw\", \"review_count\": 10, \"categories\": [{\"alias\": \"burgers\", \"title\": \"Burgers\"}], \"rating\": 4.5, \"coordinates\": {\"latitude\": 40.85266, \"longitude\": -73.97141}, \"transactions\": [\"delivery\", \"pickup\"], \"location\": {\"address1\": \"2024 Center Ave\", \"address2\": null, \"address3\": \"\", \"city\": \"Fort Lee\", \"zip_code\": \"07024\", \"country\": \"US\", \"state\": \"NJ\", \"display_address\": [\"2024 Center Ave\", \"Fort Lee, NJ 07024\"]}, \"phone\": \"+12013663079\", \"display_phone\": \"(201) 366-3079\", \"distance\": 22438.696985258197}, {\"id\": \"GA5msU6NO9rQRctPfDJCBg\", \"alias\": \"peaches-hothouse-brooklyn\", \"name\": \"Peaches HotHouse\", \"image_url\": \"https://s3-media1.fl.yelpcdn.com/bphoto/KEAXgZGetzDf_pc4kse_mw/o.jpg\", \"is_closed\": false, \"url\": \"https://www.yelp.com/biz/peaches-hothouse-brooklyn?adjust_creative=kCWh97FC3e0Y7Emck3mGaw&utm_campaign=yelp_api_v3&utm_medium=api_v3_business_search&utm_source=kCWh97FC3e0Y7Emck3mGaw\", \"review_count\": 1193, \"categories\": [{\"alias\": \"southern\", \"title\": \"Southern\"}, {\"alias\": \"tradamerican\", \"title\": \"American (Traditional)\"}, {\"alias\": \"bars\", \"title\": \"Bars\"}], \"rating\": 4.0, \"coordinates\": {\"latitude\": 40.6833699737169, \"longitude\": -73.9437798410654}, \"transactions\": [\"delivery\", \"pickup\"], \"price\": \"$$\", \"location\": {\"address1\": \"415 Tompkins Ave\", \"address2\": \"\", \"address3\": \"\", \"city\": \"Brooklyn\", \"zip_code\": \"11216\", \"country\": \"US\", \"state\": \"NY\", \"display_address\": [\"415 Tompkins Ave\", \"Brooklyn, NY 11216\"]}, \"phone\": \"+17184839111\", \"display_phone\": \"(718) 483-9111\", \"distance\": 3471.5254198124094}, {\"id\": \"QRbD99HVMffeto7_Hq67CQ\", \"alias\": \"korzo-brooklyn\", \"name\": \"Korzo\", \"image_url\": \"https://s3-media4.fl.yelpcdn.com/bphoto/vWqpYCFk7XUNfunv5MHjXg/o.jpg\", \"is_closed\": false, \"url\": \"https://www.yelp.com/biz/korzo-brooklyn?adjust_creative=kCWh97FC3e0Y7Emck3mGaw&utm_campaign=yelp_api_v3&utm_medium=api_v3_business_search&utm_source=kCWh97FC3e0Y7Emck3mGaw\", \"review_count\": 452, \"categories\": [{\"alias\": \"modern_european\", \"title\": \"Modern European\"}, {\"alias\": \"burgers\", \"title\": \"Burgers\"}], \"rating\": 4.0, \"coordinates\": {\"latitude\": 40.66199, \"longitude\": -73.99238}, \"transactions\": [\"pickup\"], \"price\": \"$$\", \"location\": {\"address1\": \"667 5th Ave\", \"address2\": \"\", \"address3\": \"\", \"city\": \"Brooklyn\", \"zip_code\": \"11215\", \"country\": \"US\", \"state\": \"NY\", \"display_address\": [\"667 5th Ave\", \"Brooklyn, NY 11215\"]}, \"phone\": \"+17184991199\", \"display_phone\": \"(718) 499-1199\", \"distance\": 4604.26629208554}, {\"id\": \"QyB52nUrwJRY0ipuwcfR_A\", \"alias\": \"the-hi-hi-room-2-0-2-0-new-york\", \"name\": \"The Hi Hi Room 2.0 2.0\", \"image_url\": \"https://s3-media2.fl.yelpcdn.com/bphoto/fOniBTuOMisGM23ddfb9eQ/o.jpg\", \"is_closed\": false, \"url\": \"https://www.yelp.com/biz/the-hi-hi-room-2-0-2-0-new-york?adjust_creative=kCWh97FC3e0Y7Emck3mGaw&utm_campaign=yelp_api_v3&utm_medium=api_v3_business_search&utm_source=kCWh97FC3e0Y7Emck3mGaw\", \"review_count\": 9, \"categories\": [{\"alias\": \"sandwiches\", \"title\": \"Sandwiches\"}, {\"alias\": \"burgers\", \"title\": \"Burgers\"}, {\"alias\": \"newamerican\", \"title\": \"American (New)\"}], \"rating\": 5.0, \"coordinates\": {\"latitude\": 40.6871, \"longitude\": -73.99036}, \"transactions\": [], \"location\": {\"address1\": \"138 Smith St\", \"address2\": \"\", \"address3\": null, \"city\": \"New York\", \"zip_code\": \"11201\", \"country\": \"US\", \"state\": \"NY\", \"display_address\": [\"138 Smith St\", \"New York, NY 11201\"]}, \"phone\": \"+17185763352\", \"display_phone\": \"(718) 576-3352\", \"distance\": 5789.491472995734}, {\"id\": \"UuY1QCxWybMF0IMxAYG06w\", \"alias\": \"emmy-squared-brooklyn-brooklyn-2\", \"name\": \"Emmy Squared - Brooklyn\", \"image_url\": \"https://s3-media3.fl.yelpcdn.com/bphoto/5CQoV1JqcMM9rt_-wYBYzg/o.jpg\", \"is_closed\": false, \"url\": \"https://www.yelp.com/biz/emmy-squared-brooklyn-brooklyn-2?adjust_creative=kCWh97FC3e0Y7Emck3mGaw&utm_campaign=yelp_api_v3&utm_medium=api_v3_business_search&utm_source=kCWh97FC3e0Y7Emck3mGaw\", \"review_count\": 623, \"categories\": [{\"alias\": \"pizza\", \"title\": \"Pizza\"}, {\"alias\": \"sandwiches\", \"title\": \"Sandwiches\"}, {\"alias\": \"burgers\", \"title\": \"Burgers\"}], \"rating\": 4.0, \"coordinates\": {\"latitude\": 40.712168, \"longitude\": -73.955707}, \"transactions\": [\"delivery\", \"pickup\"], \"price\": \"$$\", \"location\": {\"address1\": \"364 Grand St\", \"address2\": \"\", \"address3\": \"\", \"city\": \"Brooklyn\", \"zip_code\": \"11211\", \"country\": \"US\", \"state\": \"NY\", \"display_address\": [\"364 Grand St\", \"Brooklyn, NY 11211\"]}, \"phone\": \"+17183604535\", \"display_phone\": \"(718) 360-4535\", \"distance\": 6795.043303908554}, {\"id\": \"_0w7WPVj_sFMDbaj2KDreg\", \"alias\": \"burgers-n-shakes-brooklyn\", \"name\": \"Burgers N' Shakes\", \"image_url\": \"https://s3-media1.fl.yelpcdn.com/bphoto/5HwIRov2MAxXDWjzRAjA3w/o.jpg\", \"is_closed\": false, \"url\": \"https://www.yelp.com/biz/burgers-n-shakes-brooklyn?adjust_creative=kCWh97FC3e0Y7Emck3mGaw&utm_campaign=yelp_api_v3&utm_medium=api_v3_business_search&utm_source=kCWh97FC3e0Y7Emck3mGaw\", \"review_count\": 60, \"categories\": [{\"alias\": \"burgers\", \"title\": \"Burgers\"}], \"rating\": 3.5, \"coordinates\": {\"latitude\": 40.69923, \"longitude\": -73.91705}, \"transactions\": [\"delivery\", \"pickup\"], \"price\": \"$\", \"location\": {\"address1\": \"264 Bleecker St\", \"address2\": \"\", \"address3\": null, \"city\": \"Brooklyn\", \"zip_code\": \"11237\", \"country\": \"US\", \"state\": \"NY\", \"display_address\": [\"264 Bleecker St\", \"Brooklyn, NY 11237\"]}, \"phone\": \"+19293973135\", \"display_phone\": \"(929) 397-3135\", \"distance\": 5529.677177580427}, {\"id\": \"PY-v9ObQWyS1Oiz89IUfEw\", \"alias\": \"skinflints-brooklyn\", \"name\": \"Skinflints\", \"image_url\": \"https://s3-media4.fl.yelpcdn.com/bphoto/AbbbEUR4LdZjQNT8KDqlCw/o.jpg\", \"is_closed\": false, \"url\": \"https://www.yelp.com/biz/skinflints-brooklyn?adjust_creative=kCWh97FC3e0Y7Emck3mGaw&utm_campaign=yelp_api_v3&utm_medium=api_v3_business_search&utm_source=kCWh97FC3e0Y7Emck3mGaw\", \"review_count\": 319, \"categories\": [{\"alias\": \"burgers\", \"title\": \"Burgers\"}, {\"alias\": \"tradamerican\", \"title\": \"American (Traditional)\"}, {\"alias\": \"bars\", \"title\": \"Bars\"}], \"rating\": 4.0, \"coordinates\": {\"latitude\": 40.626544, \"longitude\": -74.024139}, \"transactions\": [\"delivery\", \"pickup\"], \"price\": \"$$\", \"location\": {\"address1\": \"7902 5th Ave\", \"address2\": \"\", \"address3\": \"\", \"city\": \"Brooklyn\", \"zip_code\": \"11209\", \"country\": \"US\", \"state\": \"NY\", \"display_address\": [\"7902 5th Ave\", \"Brooklyn, NY 11209\"]}, \"phone\": \"+17187451116\", \"display_phone\": \"(718) 745-1116\", \"distance\": 7704.181516592602}], \"total\": 12300, \"region\": {\"center\": {\"longitude\": -73.93936157226562, \"latitude\": 40.652330148320374}}}\n"
     ]
    }
   ],
   "source": [
    "# how are we going to parse the response.text object?\n",
    "\n",
    "print(response.text)"
   ]
  },
  {
   "cell_type": "code",
   "execution_count": 66,
   "metadata": {},
   "outputs": [],
   "source": [
    "# working with JSON\n",
    "\n",
    "burgers = response.text\n",
    "burgers = json.loads(burgers)"
   ]
  },
  {
   "cell_type": "code",
   "execution_count": 67,
   "metadata": {
    "scrolled": true
   },
   "outputs": [
    {
     "name": "stdout",
     "output_type": "stream",
     "text": [
      "businesses\n",
      "total\n",
      "region\n"
     ]
    }
   ],
   "source": [
    "# cleaning and exploring the data\n",
    "for key in burgers.keys():\n",
    "    print(key)"
   ]
  },
  {
   "cell_type": "code",
   "execution_count": 68,
   "metadata": {
    "scrolled": false
   },
   "outputs": [
    {
     "data": {
      "text/plain": [
       "{'center': {'longitude': -73.93936157226562, 'latitude': 40.652330148320374}}"
      ]
     },
     "execution_count": 68,
     "metadata": {},
     "output_type": "execute_result"
    }
   ],
   "source": [
    "burgers[\"region\"]"
   ]
  },
  {
   "cell_type": "code",
   "execution_count": 69,
   "metadata": {
    "scrolled": true
   },
   "outputs": [
    {
     "data": {
      "text/plain": [
       "{'id': '-0bdnX762vdTb9lI00etvA',\n",
       " 'alias': 'brooklyn-burgers-and-beer-brooklyn',\n",
       " 'name': 'Brooklyn Burgers & Beer',\n",
       " 'image_url': 'https://s3-media3.fl.yelpcdn.com/bphoto/Xt6uxV5pTXQ_c1gdJytrYA/o.jpg',\n",
       " 'is_closed': False,\n",
       " 'url': 'https://www.yelp.com/biz/brooklyn-burgers-and-beer-brooklyn?adjust_creative=kCWh97FC3e0Y7Emck3mGaw&utm_campaign=yelp_api_v3&utm_medium=api_v3_business_search&utm_source=kCWh97FC3e0Y7Emck3mGaw',\n",
       " 'review_count': 346,\n",
       " 'categories': [{'alias': 'burgers', 'title': 'Burgers'},\n",
       "  {'alias': 'beerbar', 'title': 'Beer Bar'}],\n",
       " 'rating': 4.0,\n",
       " 'coordinates': {'latitude': 40.6743507, 'longitude': -73.9815826},\n",
       " 'transactions': ['delivery', 'pickup'],\n",
       " 'price': '$$',\n",
       " 'location': {'address1': '259 5th Ave',\n",
       "  'address2': None,\n",
       "  'address3': '',\n",
       "  'city': 'Brooklyn',\n",
       "  'zip_code': '11215',\n",
       "  'country': 'US',\n",
       "  'state': 'NY',\n",
       "  'display_address': ['259 5th Ave', 'Brooklyn, NY 11215']},\n",
       " 'phone': '+17187881458',\n",
       " 'display_phone': '(718) 788-1458',\n",
       " 'distance': 4331.401461075489}"
      ]
     },
     "execution_count": 69,
     "metadata": {},
     "output_type": "execute_result"
    }
   ],
   "source": [
    "burgers['businesses'][0]"
   ]
  },
  {
   "cell_type": "code",
   "execution_count": 70,
   "metadata": {},
   "outputs": [
    {
     "data": {
      "text/html": [
       "<div>\n",
       "<style scoped>\n",
       "    .dataframe tbody tr th:only-of-type {\n",
       "        vertical-align: middle;\n",
       "    }\n",
       "\n",
       "    .dataframe tbody tr th {\n",
       "        vertical-align: top;\n",
       "    }\n",
       "\n",
       "    .dataframe thead th {\n",
       "        text-align: right;\n",
       "    }\n",
       "</style>\n",
       "<table border=\"1\" class=\"dataframe\">\n",
       "  <thead>\n",
       "    <tr style=\"text-align: right;\">\n",
       "      <th></th>\n",
       "      <th>id</th>\n",
       "      <th>alias</th>\n",
       "      <th>name</th>\n",
       "      <th>image_url</th>\n",
       "      <th>is_closed</th>\n",
       "      <th>url</th>\n",
       "      <th>review_count</th>\n",
       "      <th>categories</th>\n",
       "      <th>rating</th>\n",
       "      <th>coordinates</th>\n",
       "      <th>transactions</th>\n",
       "      <th>price</th>\n",
       "      <th>location</th>\n",
       "      <th>phone</th>\n",
       "      <th>display_phone</th>\n",
       "      <th>distance</th>\n",
       "    </tr>\n",
       "  </thead>\n",
       "  <tbody>\n",
       "    <tr>\n",
       "      <th>0</th>\n",
       "      <td>-0bdnX762vdTb9lI00etvA</td>\n",
       "      <td>brooklyn-burgers-and-beer-brooklyn</td>\n",
       "      <td>Brooklyn Burgers &amp; Beer</td>\n",
       "      <td>https://s3-media3.fl.yelpcdn.com/bphoto/Xt6uxV...</td>\n",
       "      <td>False</td>\n",
       "      <td>https://www.yelp.com/biz/brooklyn-burgers-and-...</td>\n",
       "      <td>346</td>\n",
       "      <td>[{'alias': 'burgers', 'title': 'Burgers'}, {'a...</td>\n",
       "      <td>4.0</td>\n",
       "      <td>{'latitude': 40.6743507, 'longitude': -73.9815...</td>\n",
       "      <td>[delivery, pickup]</td>\n",
       "      <td>$$</td>\n",
       "      <td>{'address1': '259 5th Ave', 'address2': None, ...</td>\n",
       "      <td>+17187881458</td>\n",
       "      <td>(718) 788-1458</td>\n",
       "      <td>4331.401461</td>\n",
       "    </tr>\n",
       "    <tr>\n",
       "      <th>1</th>\n",
       "      <td>xiEBdZ8z5KY21Vw2pY2fJQ</td>\n",
       "      <td>two-8-two-bar-and-burger-brooklyn</td>\n",
       "      <td>Two 8 Two Bar &amp; Burger</td>\n",
       "      <td>https://s3-media1.fl.yelpcdn.com/bphoto/Bk_qD2...</td>\n",
       "      <td>False</td>\n",
       "      <td>https://www.yelp.com/biz/two-8-two-bar-and-bur...</td>\n",
       "      <td>657</td>\n",
       "      <td>[{'alias': 'burgers', 'title': 'Burgers'}, {'a...</td>\n",
       "      <td>4.0</td>\n",
       "      <td>{'latitude': 40.688536, 'longitude': -73.989728}</td>\n",
       "      <td>[delivery, pickup]</td>\n",
       "      <td>$$</td>\n",
       "      <td>{'address1': '282 Atlantic Ave', 'address2': '...</td>\n",
       "      <td>+17185962282</td>\n",
       "      <td>(718) 596-2282</td>\n",
       "      <td>5853.318089</td>\n",
       "    </tr>\n",
       "    <tr>\n",
       "      <th>2</th>\n",
       "      <td>wYgp-defqwJPhjC6Y_WKWg</td>\n",
       "      <td>burgerfi-brooklyn-2</td>\n",
       "      <td>BurgerFi</td>\n",
       "      <td>https://s3-media2.fl.yelpcdn.com/bphoto/U56T0L...</td>\n",
       "      <td>False</td>\n",
       "      <td>https://www.yelp.com/biz/burgerfi-brooklyn-2?a...</td>\n",
       "      <td>299</td>\n",
       "      <td>[{'alias': 'hotdog', 'title': 'Hot Dogs'}, {'a...</td>\n",
       "      <td>4.0</td>\n",
       "      <td>{'latitude': 40.61883, 'longitude': -74.02131}</td>\n",
       "      <td>[delivery, pickup]</td>\n",
       "      <td>$$</td>\n",
       "      <td>{'address1': '719 86th St', 'address2': '', 'a...</td>\n",
       "      <td>+17188360836</td>\n",
       "      <td>(718) 836-0836</td>\n",
       "      <td>7856.266094</td>\n",
       "    </tr>\n",
       "    <tr>\n",
       "      <th>3</th>\n",
       "      <td>dkAj-3gmkvdA4XkJmw6hCw</td>\n",
       "      <td>juanchis-burger-brooklyn</td>\n",
       "      <td>Juanchi's Burger</td>\n",
       "      <td>https://s3-media4.fl.yelpcdn.com/bphoto/ZgbWUB...</td>\n",
       "      <td>False</td>\n",
       "      <td>https://www.yelp.com/biz/juanchis-burger-brook...</td>\n",
       "      <td>449</td>\n",
       "      <td>[{'alias': 'gastropubs', 'title': 'Gastropubs'...</td>\n",
       "      <td>4.5</td>\n",
       "      <td>{'latitude': 40.713003, 'longitude': -73.958863}</td>\n",
       "      <td>[delivery, pickup]</td>\n",
       "      <td>$$</td>\n",
       "      <td>{'address1': '225 S 1st St', 'address2': None,...</td>\n",
       "      <td>+19292950147</td>\n",
       "      <td>(929) 295-0147</td>\n",
       "      <td>6945.733809</td>\n",
       "    </tr>\n",
       "    <tr>\n",
       "      <th>4</th>\n",
       "      <td>M6z8nxPfoM9si1LIb8sxig</td>\n",
       "      <td>burger-urway-park-slope-brooklyn</td>\n",
       "      <td>BURGER URWAY PARK SLOPE</td>\n",
       "      <td>https://s3-media1.fl.yelpcdn.com/bphoto/lwp8cg...</td>\n",
       "      <td>False</td>\n",
       "      <td>https://www.yelp.com/biz/burger-urway-park-slo...</td>\n",
       "      <td>1</td>\n",
       "      <td>[{'alias': 'burgers', 'title': 'Burgers'}, {'a...</td>\n",
       "      <td>5.0</td>\n",
       "      <td>{'latitude': 40.67037, 'longitude': -73.98502}</td>\n",
       "      <td>[delivery, pickup]</td>\n",
       "      <td>NaN</td>\n",
       "      <td>{'address1': '339 7th St', 'address2': None, '...</td>\n",
       "      <td>+13474220139</td>\n",
       "      <td>(347) 422-0139</td>\n",
       "      <td>4335.748177</td>\n",
       "    </tr>\n",
       "  </tbody>\n",
       "</table>\n",
       "</div>"
      ],
      "text/plain": [
       "                       id                               alias  \\\n",
       "0  -0bdnX762vdTb9lI00etvA  brooklyn-burgers-and-beer-brooklyn   \n",
       "1  xiEBdZ8z5KY21Vw2pY2fJQ   two-8-two-bar-and-burger-brooklyn   \n",
       "2  wYgp-defqwJPhjC6Y_WKWg                 burgerfi-brooklyn-2   \n",
       "3  dkAj-3gmkvdA4XkJmw6hCw            juanchis-burger-brooklyn   \n",
       "4  M6z8nxPfoM9si1LIb8sxig    burger-urway-park-slope-brooklyn   \n",
       "\n",
       "                      name                                          image_url  \\\n",
       "0  Brooklyn Burgers & Beer  https://s3-media3.fl.yelpcdn.com/bphoto/Xt6uxV...   \n",
       "1   Two 8 Two Bar & Burger  https://s3-media1.fl.yelpcdn.com/bphoto/Bk_qD2...   \n",
       "2                 BurgerFi  https://s3-media2.fl.yelpcdn.com/bphoto/U56T0L...   \n",
       "3         Juanchi's Burger  https://s3-media4.fl.yelpcdn.com/bphoto/ZgbWUB...   \n",
       "4  BURGER URWAY PARK SLOPE  https://s3-media1.fl.yelpcdn.com/bphoto/lwp8cg...   \n",
       "\n",
       "   is_closed                                                url  review_count  \\\n",
       "0      False  https://www.yelp.com/biz/brooklyn-burgers-and-...           346   \n",
       "1      False  https://www.yelp.com/biz/two-8-two-bar-and-bur...           657   \n",
       "2      False  https://www.yelp.com/biz/burgerfi-brooklyn-2?a...           299   \n",
       "3      False  https://www.yelp.com/biz/juanchis-burger-brook...           449   \n",
       "4      False  https://www.yelp.com/biz/burger-urway-park-slo...             1   \n",
       "\n",
       "                                          categories  rating  \\\n",
       "0  [{'alias': 'burgers', 'title': 'Burgers'}, {'a...     4.0   \n",
       "1  [{'alias': 'burgers', 'title': 'Burgers'}, {'a...     4.0   \n",
       "2  [{'alias': 'hotdog', 'title': 'Hot Dogs'}, {'a...     4.0   \n",
       "3  [{'alias': 'gastropubs', 'title': 'Gastropubs'...     4.5   \n",
       "4  [{'alias': 'burgers', 'title': 'Burgers'}, {'a...     5.0   \n",
       "\n",
       "                                         coordinates        transactions  \\\n",
       "0  {'latitude': 40.6743507, 'longitude': -73.9815...  [delivery, pickup]   \n",
       "1   {'latitude': 40.688536, 'longitude': -73.989728}  [delivery, pickup]   \n",
       "2     {'latitude': 40.61883, 'longitude': -74.02131}  [delivery, pickup]   \n",
       "3   {'latitude': 40.713003, 'longitude': -73.958863}  [delivery, pickup]   \n",
       "4     {'latitude': 40.67037, 'longitude': -73.98502}  [delivery, pickup]   \n",
       "\n",
       "  price                                           location         phone  \\\n",
       "0    $$  {'address1': '259 5th Ave', 'address2': None, ...  +17187881458   \n",
       "1    $$  {'address1': '282 Atlantic Ave', 'address2': '...  +17185962282   \n",
       "2    $$  {'address1': '719 86th St', 'address2': '', 'a...  +17188360836   \n",
       "3    $$  {'address1': '225 S 1st St', 'address2': None,...  +19292950147   \n",
       "4   NaN  {'address1': '339 7th St', 'address2': None, '...  +13474220139   \n",
       "\n",
       "    display_phone     distance  \n",
       "0  (718) 788-1458  4331.401461  \n",
       "1  (718) 596-2282  5853.318089  \n",
       "2  (718) 836-0836  7856.266094  \n",
       "3  (929) 295-0147  6945.733809  \n",
       "4  (347) 422-0139  4335.748177  "
      ]
     },
     "execution_count": 70,
     "metadata": {},
     "output_type": "execute_result"
    }
   ],
   "source": [
    "burgers_df.head()"
   ]
  },
  {
   "cell_type": "code",
   "execution_count": 48,
   "metadata": {
    "scrolled": false
   },
   "outputs": [
    {
     "data": {
      "text/plain": [
       "id                0\n",
       "alias             0\n",
       "name              0\n",
       "image_url         0\n",
       "is_closed         0\n",
       "url               0\n",
       "review_count      0\n",
       "categories        0\n",
       "rating            0\n",
       "coordinates       0\n",
       "transactions      0\n",
       "price            15\n",
       "location          0\n",
       "phone             0\n",
       "display_phone     0\n",
       "distance          0\n",
       "dtype: int64"
      ]
     },
     "execution_count": 48,
     "metadata": {},
     "output_type": "execute_result"
    }
   ],
   "source": [
    "# turn the relevant dataset into a dataframe\n",
    "\n",
    "burgers_df = pd.DataFrame.from_dict(burgers[\"businesses\"])\n",
    "burgers_df.isnull().sum()"
   ]
  },
  {
   "cell_type": "code",
   "execution_count": 49,
   "metadata": {
    "scrolled": false
   },
   "outputs": [
    {
     "name": "stdout",
     "output_type": "stream",
     "text": [
      "<class 'pandas.core.frame.DataFrame'>\n",
      "RangeIndex: 50 entries, 0 to 49\n",
      "Data columns (total 16 columns):\n",
      "id               50 non-null object\n",
      "alias            50 non-null object\n",
      "name             50 non-null object\n",
      "image_url        50 non-null object\n",
      "is_closed        50 non-null bool\n",
      "url              50 non-null object\n",
      "review_count     50 non-null int64\n",
      "categories       50 non-null object\n",
      "rating           50 non-null float64\n",
      "coordinates      50 non-null object\n",
      "transactions     50 non-null object\n",
      "price            35 non-null object\n",
      "location         50 non-null object\n",
      "phone            50 non-null object\n",
      "display_phone    50 non-null object\n",
      "distance         50 non-null float64\n",
      "dtypes: bool(1), float64(2), int64(1), object(12)\n",
      "memory usage: 6.0+ KB\n"
     ]
    }
   ],
   "source": [
    "# you can do some analysis and visualization from here on! \n",
    "\n",
    "# visualize the review count - what's the appropriate plot?\n",
    "burgers_df.info()"
   ]
  },
  {
   "cell_type": "code",
   "execution_count": 78,
   "metadata": {},
   "outputs": [],
   "source": [
    "# query the name of the burgers place with the highest review\n",
    "reviews_300more = burgers_df[\"name\"][burgers_df[\"review_count\"] > 300] "
   ]
  },
  {
   "cell_type": "code",
   "execution_count": 79,
   "metadata": {},
   "outputs": [
    {
     "data": {
      "text/plain": [
       "0       Brooklyn Burgers & Beer\n",
       "1        Two 8 Two Bar & Burger\n",
       "3              Juanchi's Burger\n",
       "13    My House Burgers & Shakes\n",
       "14               Bonnie's Grill\n",
       "15             Dutch Boy Burger\n",
       "19                  Smashburger\n",
       "20                  Shake Shack\n",
       "28                   Bareburger\n",
       "29         Emily - West Village\n",
       "33                   Moo Burger\n",
       "34             Black Tap - Soho\n",
       "36               Brennan & Carr\n",
       "37                   Bareburger\n",
       "38                        Emily\n",
       "39                    Au Cheval\n",
       "40                      BK JANI\n",
       "42                  Shake Shack\n",
       "44             Peaches HotHouse\n",
       "45                        Korzo\n",
       "47      Emmy Squared - Brooklyn\n",
       "49                   Skinflints\n",
       "Name: name, dtype: object"
      ]
     },
     "execution_count": 79,
     "metadata": {},
     "output_type": "execute_result"
    }
   ],
   "source": [
    "reviews_300more"
   ]
  },
  {
   "cell_type": "code",
   "execution_count": null,
   "metadata": {},
   "outputs": [],
   "source": [
    "# migrate the cleaned data into a sql db"
   ]
  },
  {
   "cell_type": "code",
   "execution_count": null,
   "metadata": {},
   "outputs": [],
   "source": [
    "# can you do some other queries using sql/pandas?"
   ]
  },
  {
   "cell_type": "markdown",
   "metadata": {},
   "source": [
    "#### Resources\n",
    "- [Getting Data from Reddit API](https://www.storybench.org/how-to-scrape-reddit-with-python/)\n",
    "- [Twitch API](https://dev.twitch.tv/docs)"
   ]
  }
 ],
 "metadata": {
  "kernelspec": {
   "display_name": "Python 3",
   "language": "python",
   "name": "python3"
  },
  "language_info": {
   "codemirror_mode": {
    "name": "ipython",
    "version": 3
   },
   "file_extension": ".py",
   "mimetype": "text/x-python",
   "name": "python",
   "nbconvert_exporter": "python",
   "pygments_lexer": "ipython3",
   "version": "3.6.9"
  }
 },
 "nbformat": 4,
 "nbformat_minor": 2
}
